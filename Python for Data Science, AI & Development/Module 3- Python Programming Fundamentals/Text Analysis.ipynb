{
 "cells": [
  {
   "cell_type": "markdown",
   "id": "958a2122-0fd7-435d-8f74-0fb445f89e38",
   "metadata": {},
   "source": [
    "# What is text analysis?\n",
    "Text analysis, also known as text mining or text analytics, refers to the process of extracting meaningful information and insights from textual data.\n"
   ]
  },
  {
   "cell_type": "markdown",
   "id": "170a5088-47c5-4e07-8149-74da7035d013",
   "metadata": {},
   "source": [
    "**Let's consider a real-life scenario where you are analyzing customer feedback for a product. You have a large data set of customer reviews in the form of strings, and you want to extract useful information from them using the three identified tasks:**\n",
    "\n",
    "**Task 1. String in lowercase:**\n",
    "You want to pre-process the customer feedback by converting all the text to lowercase. This step helps standardize the text. Lower casing the text allows you to focus on the content rather than the specific letter casing.\n",
    "\n",
    "**Task 2. Frequency of all words in a given string:**\n",
    "After converting the text to lowercase, you want to determine the frequency of each word in the customer feedback. This information will help you identify which words are used more frequently, indicating the key aspects or topics that customers are mentioning in their reviews. By analyzing the word frequencies, you can gain insights into the most common issues raised by customers.\n",
    "\n",
    "**Task 3. Frequency of a specific word:**\n",
    "In addition to analyzing the overall word frequencies, you want to specifically track the frequency of a particular word that is relevant to your analysis. For example, you might be interested in monitoring how often the word \"reliable\" appears in customer reviews to gauge customer sentiment about the product's reliability. By focusing on the frequency of a specific word, you can gain a deeper understanding of customer opinions or preferences related to that particular aspect.\n",
    "\n",
    "By performing these tasks on the customer feedback dataset, you can gain valuable insights into customer sentiment\n"
   ]
  },
  {
   "cell_type": "markdown",
   "id": "a356223e-ed31-403e-9dbc-e9d6043c267e",
   "metadata": {},
   "source": [
    "<center>\n",
    "    \n",
    "# Part-A"
   ]
  },
  {
   "cell_type": "markdown",
   "id": "72eb4acd-0a7b-4f36-a5c6-e8f0890d9024",
   "metadata": {},
   "source": [
    "<center>\n",
    "    \n",
    "**Note: In Part-A, you would not be getting any output as you are just storing the string and creating a class.**\n",
    "    </center>"
   ]
  },
  {
   "cell_type": "markdown",
   "id": "bd7a1c9c-5514-4bca-a68d-4899cb35374f",
   "metadata": {},
   "source": [
    "## Step 1: Define a string\n",
    "\"Lorem ipsum dolor! diam amet, consetetur Lorem magna. sed diam nonumy eirmod tempor. diam et labore? et diam magna. et diam amet.\" <br>\n",
    "**Hint: Use a variable and store the above string.**"
   ]
  },
  {
   "cell_type": "code",
   "execution_count": 2,
   "id": "4e45cbbd-f167-4df3-89c6-100fee469323",
   "metadata": {},
   "outputs": [],
   "source": [
    "#Press Shift+Enter to run the code\n",
    "givenstring=\"Lorem ipsum dolor! diam amet, consetetur Lorem magna. sed diam nonumy eirmod tempor. diam et labore? et diam magna. et diam amet.\""
   ]
  },
  {
   "cell_type": "markdown",
   "id": "ab5e0572-a07c-4750-add7-b8eb7ec4518e",
   "metadata": {},
   "source": [
    "### To achieve the tasks mentioned in the scenario, you need to create a class with three different methods.\n"
   ]
  },
  {
   "cell_type": "markdown",
   "id": "458f85aa-5a38-4598-8d66-58084d46cfff",
   "metadata": {},
   "source": [
    "## Step 2: Define the class and its attributes\n"
   ]
  },
  {
   "cell_type": "markdown",
   "id": "e219d7c8-62bc-40e1-b8ea-b7b03d97b0b9",
   "metadata": {},
   "source": [
    "1. Create a class named TextAnalyzer.\n",
    "2. Define the constructor `__init__` method that takes a text argument."
   ]
  },
  {
   "cell_type": "code",
   "execution_count": null,
   "id": "577b29de-ccd8-4a90-9599-1cec10b229cd",
   "metadata": {},
   "outputs": [],
   "source": [
    "# Please do not run this code cell as it is incomplete and will produce an error.\n",
    "\n",
    "# Let's create a class called TextAnalyzer to analyze text.\n",
    "class TextAnalyzer(object):\n",
    "    # The __init__ method initializes the class with a 'text' parameter.\n",
    "    # You will store the provided 'text' as an instance variable.\n",
    "    def __init__(self, text):"
   ]
  },
  {
   "cell_type": "markdown",
   "id": "e68c9337-0f3c-4cdf-9d4b-0701c62b7fa4",
   "metadata": {},
   "source": [
    "## Step 3: Implement a code to format the text in lowercase\n"
   ]
  },
  {
   "cell_type": "markdown",
   "id": "f88e3d52-5177-41a1-9103-450afdff00de",
   "metadata": {},
   "source": [
    "1. Inside the constructor, convert the text argument to lowercase using the `lower()` method.\n",
    "2. Then, remove punctuation marks (periods, exclamation marks, commas, and question marks) from the text using the `replace()` method.\n",
    "3. Finally, assign the formatted text to a new attribute called fmtText.\n",
    "\n",
    "**Here you will be updating the above `TextAnalyzer` class with the points mentioned above.**"
   ]
  },
  {
   "cell_type": "code",
   "execution_count": 4,
   "id": "279585ed-ff07-42db-9f79-b5b80100bbbb",
   "metadata": {},
   "outputs": [],
   "source": [
    "# Press Shift+Enter to run the code.\n",
    "class TextAnalzer(object):\n",
    "    \n",
    "    def __init__ (self, text):\n",
    "        # remove punctuation\n",
    "        formattedText = text.replace('.','').replace('!','').replace('?','').replace(',','')\n",
    "        \n",
    "        # make text lowercase\n",
    "        formattedText = formattedText.lower()\n",
    "        \n",
    "        self.fmtText = formattedText"
   ]
  },
  {
   "cell_type": "markdown",
   "id": "221da54f-887b-4737-8384-799e625a4736",
   "metadata": {},
   "source": [
    "## Step 4: Implement a code to count the frequency of all unique words"
   ]
  },
  {
   "cell_type": "markdown",
   "id": "4f441520-7ec4-4970-a01e-8278cafadc71",
   "metadata": {},
   "source": [
    "* In this step, you will implement the `freqAll()` method with the below parameters:\n",
    "     1. Split the fmtText attribute into individual words using the `split()` method.\n",
    "     2. Create an empty dictionary to store the word frequency.\n",
    "     3. Iterate over the list of words and update the frequency dictionary accordingly.\n",
    "     4. Use `count` method for counting the occurence.\n",
    "     5. Return the frequency dictionary.\n",
    "     \n",
    "**Update the above `TextAnalyzer` class with points mentioned above.**\n"
   ]
  },
  {
   "cell_type": "code",
   "execution_count": 6,
   "id": "75d3adac-aeb3-4303-b349-dccd25292147",
   "metadata": {},
   "outputs": [],
   "source": [
    "#Press shift+Enter to run the code\n",
    "class TextAnalyzer(object):\n",
    "    \n",
    "    def __init__ (self, text):\n",
    "        # remove punctuation\n",
    "        formattedText = text.replace('.','').replace('!','').replace('?','').replace(',','')\n",
    "        \n",
    "        # make text lowercase\n",
    "        formattedText = formattedText.lower()\n",
    "        \n",
    "        self.fmtText = formattedText\n",
    "        \n",
    "    def freqAll(self):        \n",
    "        # split text into words\n",
    "        wordList = self.fmtText.split(' ')\n",
    "        \n",
    "        # Create dictionary\n",
    "        freqMap = {}\n",
    "        for word in set(wordList): # use set to remove duplicates in list\n",
    "            freqMap[word] = wordList.count(word)\n",
    "        \n",
    "        return freqMap"
   ]
  },
  {
   "cell_type": "markdown",
   "id": "6bf53c9b-4d30-4422-a133-b5a5e7d09c7d",
   "metadata": {},
   "source": [
    "## Step 5: Implement a code to count the frequency of a specific word"
   ]
  },
  {
   "cell_type": "markdown",
   "id": "abbd76fa-5b94-4eef-baa9-727b88831779",
   "metadata": {},
   "source": [
    "In step-5, you have to implement the `freqOf(word)` method that takes a word argument:\n",
    "   1. Create a method and pass the word that needs to be found.\n",
    "   2. Get the `freqAll` method to look for count and check if that word is in the list.\n",
    "   3. Return the count. If the word is not found, the count returned is 0.\n",
    "   \n",
    "**Update the above `TextAnalyzer` class with the points mentioned above.**"
   ]
  },
  {
   "cell_type": "code",
   "execution_count": 7,
   "id": "5df5354a-b374-48ca-9915-df019afc1dfa",
   "metadata": {},
   "outputs": [],
   "source": [
    "#Press Shift+Enter to run the code\n",
    "class TextAnalyzer(object):\n",
    "    \n",
    "    def __init__ (self, text):\n",
    "        # remove punctuation\n",
    "        formattedText = text.replace('.','').replace('!','').replace('?','').replace(',','')\n",
    "        \n",
    "        # make text lowercase\n",
    "        formattedText = formattedText.lower()\n",
    "        \n",
    "        self.fmtText = formattedText\n",
    "        \n",
    "    def freqAll(self):        \n",
    "        # split text into words\n",
    "        wordList = self.fmtText.split(' ')\n",
    "        \n",
    "        # Create dictionary\n",
    "        freqMap = {}\n",
    "        for word in set(wordList): # use set to remove duplicates in list\n",
    "            freqMap[word] = wordList.count(word)\n",
    "        \n",
    "        return freqMap\n",
    "    \n",
    "    def freqOf(self,word):\n",
    "        # get frequency map\n",
    "        freqDict = self.freqAll()\n",
    "        \n",
    "        if word in freqDict:\n",
    "            return freqDict[word]\n",
    "        else:\n",
    "            return 0"
   ]
  },
  {
   "cell_type": "markdown",
   "id": "d07328eb-fc11-44d8-8be9-eb2fc32a9f0e",
   "metadata": {},
   "source": [
    "<center>\n",
    "    \n",
    "# Part-B "
   ]
  },
  {
   "cell_type": "markdown",
   "id": "0b8c0489-d138-411d-b7c8-ca046616929e",
   "metadata": {},
   "source": [
    "<center>\n",
    "    \n",
    "**In Part B, you will call the functions created in Part A, allowing the functions to execute and generate output.**\n",
    "</center>\n"
   ]
  },
  {
   "cell_type": "markdown",
   "id": "b93f8787-a3fb-4a65-8ecf-4fe290ae327d",
   "metadata": {},
   "source": [
    "## Step 1: Create an instance of TextAnalyzer class\n",
    "* Instantiate the TextAnalyzer class by passing the given string as an argument."
   ]
  },
  {
   "cell_type": "code",
   "execution_count": 8,
   "id": "dbad912a-979a-4f98-bc62-51e842071ea9",
   "metadata": {},
   "outputs": [],
   "source": [
    "# type your code here\n",
    "analyzed = TextAnalyzer(givenstring)"
   ]
  },
  {
   "cell_type": "markdown",
   "id": "a328162c-7f15-4542-9475-396453676d86",
   "metadata": {},
   "source": [
    "## Step 2: Call the function that converts the data into lowercase"
   ]
  },
  {
   "cell_type": "code",
   "execution_count": 9,
   "id": "3a95477a-c8e8-40ba-930f-0320c5b1d36a",
   "metadata": {},
   "outputs": [
    {
     "name": "stdout",
     "output_type": "stream",
     "text": [
      "Formatted Text: lorem ipsum dolor diam amet consetetur lorem magna sed diam nonumy eirmod tempor diam et labore et diam magna et diam amet\n"
     ]
    }
   ],
   "source": [
    "# Press Shift+Enter to run the code.\n",
    "print(\"Formatted Text:\", analyzed.fmtText)"
   ]
  },
  {
   "cell_type": "markdown",
   "id": "edfdfc60-e35f-4378-ac2c-4bc769bbad29",
   "metadata": {},
   "source": [
    "## Step 3: Call the function that counts the frequency of all unique words from the data\n"
   ]
  },
  {
   "cell_type": "code",
   "execution_count": 10,
   "id": "2fc4e4a9-c986-4ca5-a69e-5b84677b4755",
   "metadata": {},
   "outputs": [
    {
     "name": "stdout",
     "output_type": "stream",
     "text": [
      "{'dolor': 1, 'consetetur': 1, 'magna': 2, 'et': 3, 'eirmod': 1, 'diam': 5, 'ipsum': 1, 'labore': 1, 'amet': 2, 'nonumy': 1, 'tempor': 1, 'lorem': 2, 'sed': 1}\n"
     ]
    }
   ],
   "source": [
    "# Press Shift+Enter to run the code.\n",
    "freqMap = analyzed.freqAll()\n",
    "print(freqMap)"
   ]
  },
  {
   "cell_type": "markdown",
   "id": "e8c0151f-0117-40b4-85a0-c5f827c39669",
   "metadata": {},
   "source": [
    "## Step 4: Call the function that counts the frequency of a specific word\n",
    "Here, you will call the function that counts the frequency of the word \"lorem\".\n",
    "<br>\n",
    "\n",
    "Print the output.**\n"
   ]
  },
  {
   "cell_type": "code",
   "execution_count": 11,
   "id": "551ef839-63e8-4d84-bc1e-86ac2883a865",
   "metadata": {},
   "outputs": [
    {
     "name": "stdout",
     "output_type": "stream",
     "text": [
      "The word lorem appears 2 times.\n"
     ]
    }
   ],
   "source": [
    "# type your code here\n",
    "word = \"lorem\"\n",
    "frequency = analyzed.freqOf(word)\n",
    "print(\"The word\",word,\"appears\",frequency,\"times.\")"
   ]
  }
 ],
 "metadata": {
  "kernelspec": {
   "display_name": "Python 3 (ipykernel)",
   "language": "python",
   "name": "python3"
  },
  "language_info": {
   "codemirror_mode": {
    "name": "ipython",
    "version": 3
   },
   "file_extension": ".py",
   "mimetype": "text/x-python",
   "name": "python",
   "nbconvert_exporter": "python",
   "pygments_lexer": "ipython3",
   "version": "3.11.6"
  }
 },
 "nbformat": 4,
 "nbformat_minor": 5
}
