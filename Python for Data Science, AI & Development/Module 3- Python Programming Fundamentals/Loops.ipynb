{
 "cells": [
  {
   "cell_type": "markdown",
   "id": "6463c42f-3fca-43cd-b013-4479828060d0",
   "metadata": {},
   "source": [
    "# Loops in Python"
   ]
  },
  {
   "cell_type": "markdown",
   "id": "af24c4ec-86fc-42aa-8eb2-e045e535bf7e",
   "metadata": {},
   "source": [
    "<b> 1) Write a <code>for</code> loop that prints out all the elements between <b>-5</b> and <b>5</b> using the range function."
   ]
  },
  {
   "cell_type": "code",
   "execution_count": 3,
   "id": "4a0cbfcd-9a8c-4929-9532-bfca3558ef04",
   "metadata": {},
   "outputs": [
    {
     "name": "stdout",
     "output_type": "stream",
     "text": [
      "-4\n",
      "-3\n",
      "-2\n",
      "-1\n",
      "0\n",
      "1\n",
      "2\n",
      "3\n",
      "4\n"
     ]
    }
   ],
   "source": [
    "# Write your code below and press Shift+Enter to execute\n",
    "for i in range(-4, 5):\n",
    "    print(i)"
   ]
  },
  {
   "cell_type": "markdown",
   "id": "832aadd1-74d3-416a-a64f-d127b12f4015",
   "metadata": {},
   "source": [
    "<b> 2) Print the elements of the following list: <code>Genres=\\[ 'rock', 'R\\&B', 'Soundtrack', 'R\\&B', 'soul', 'pop']</code>.\n",
    "Make sure you follow Python conventions."
   ]
  },
  {
   "cell_type": "code",
   "execution_count": 6,
   "id": "c9dfaf09-737f-48b3-9488-0348ff0cfa4d",
   "metadata": {},
   "outputs": [
    {
     "name": "stdout",
     "output_type": "stream",
     "text": [
      "rock\n",
      "R&B\n",
      "Soundtrack\n",
      "R&B\n",
      "soul\n",
      "pop\n"
     ]
    }
   ],
   "source": [
    "# Write your code below and press Shift+Enter to execute\n",
    "Genres = ['rock', 'R&B', 'Soundtrack', 'R&B', 'soul', 'pop']\n",
    "for Genre in Genres:\n",
    "    print(Genre)"
   ]
  },
  {
   "cell_type": "markdown",
   "id": "98c0fc42-9735-4001-a000-a6812a71d930",
   "metadata": {},
   "source": [
    "<b> 3) Write a for loop that prints out the following list: <code>squares=\\['red', 'yellow', 'green', 'purple', 'blue']</code>"
   ]
  },
  {
   "cell_type": "code",
   "execution_count": 7,
   "id": "a67ed41d-c077-4dea-9ba0-225fb4daafb1",
   "metadata": {},
   "outputs": [
    {
     "name": "stdout",
     "output_type": "stream",
     "text": [
      "red\n",
      "yellow\n",
      "green\n",
      "purple\n",
      "blue\n"
     ]
    }
   ],
   "source": [
    "# Write your code below and press Shift+Enter to execute\n",
    "squares=['red', 'yellow', 'green', 'purple', 'blue']\n",
    "for square in squares:\n",
    "    print(square)"
   ]
  },
  {
   "cell_type": "markdown",
   "id": "6dc3b745-0b4e-429f-ad2d-e00072d89000",
   "metadata": {},
   "source": [
    "<b> 4) Write a while loop to display the values of the Rating of an album playlist stored in the<code>PlayListRatings</code> list. If the score is less than 6, exit the loop. The list <code>PlayListRatings</code> is given by: <code>PlayListRatings = \\[10, 9.5, 10, 8, 7.5, 5, 10, 10]</code>\n"
   ]
  },
  {
   "cell_type": "code",
   "execution_count": 11,
   "id": "c49568c1-ba78-4594-9dc8-ca27ae3d4dee",
   "metadata": {},
   "outputs": [
    {
     "name": "stdout",
     "output_type": "stream",
     "text": [
      "10\n",
      "9.5\n",
      "10\n",
      "8\n",
      "7.5\n"
     ]
    }
   ],
   "source": [
    "# Write your code below and press Shift+Enter to execute\n",
    "PlayListRatings = [10, 9.5, 10, 8, 7.5, 5, 10, 10]\n",
    "i = 0\n",
    "Rating = PlayListRatings[0]\n",
    "while(i < len(PlayListRatings) and Rating >= 6):\n",
    "    print(Rating)\n",
    "    i = i + 1 # This prints the value 10 only once \n",
    "    Rating = PlayListRatings[i]\n"
   ]
  },
  {
   "cell_type": "code",
   "execution_count": 18,
   "id": "a669a39f-0867-43c6-9d1c-4a7df9d37ac5",
   "metadata": {},
   "outputs": [
    {
     "name": "stdout",
     "output_type": "stream",
     "text": [
      "Rating: 10\n",
      "Rating: 9.5\n",
      "Rating: 10\n",
      "Rating: 8\n",
      "Rating: 7.5\n"
     ]
    }
   ],
   "source": [
    "# OR\n",
    "# Initialize the PlayListRatings list\n",
    "PlayListRatings = [10, 9.5, 10, 8, 7.5, 5, 10, 10]\n",
    "\n",
    "# Initialize the index\n",
    "index = 0\n",
    "\n",
    "# Use a while loop to iterate through PlayListRatings\n",
    "while index < len(PlayListRatings):\n",
    "    rating = PlayListRatings[index]\n",
    "    if rating < 6:\n",
    "        break  # Exit the loop if the rating is less than 6\n",
    "    print(f\"Rating: {rating}\")\n",
    "    index += 1"
   ]
  },
  {
   "cell_type": "markdown",
   "id": "fa14c2be-ff1c-4f27-870a-8ecbeb1660f3",
   "metadata": {},
   "source": [
    "<b> 5) Write a while loop to copy the strings <code>'orange'</code> of the list <code>squares</code> to the list <code>new_squares</code>. Stop and exit the loop if the value on the list is not <code>'orange'</code>:\n"
   ]
  },
  {
   "cell_type": "code",
   "execution_count": 19,
   "id": "35e0dfb7-ec21-4952-a965-a6e502477bab",
   "metadata": {},
   "outputs": [
    {
     "name": "stdout",
     "output_type": "stream",
     "text": [
      "['orange', 'orange']\n"
     ]
    }
   ],
   "source": [
    "# Write your code below and press Shift+Enter to execute\n",
    "\n",
    "squares = ['orange', 'orange', 'purple', 'blue ', 'orange']\n",
    "new_squares = []\n",
    "\n",
    "i = 0\n",
    "while(i < len(squares) and squares[i] == 'orange'):\n",
    "    new_squares.append(squares[i])\n",
    "    i = i + 1\n",
    "print (new_squares)"
   ]
  }
 ],
 "metadata": {
  "kernelspec": {
   "display_name": "Python 3 (ipykernel)",
   "language": "python",
   "name": "python3"
  },
  "language_info": {
   "codemirror_mode": {
    "name": "ipython",
    "version": 3
   },
   "file_extension": ".py",
   "mimetype": "text/x-python",
   "name": "python",
   "nbconvert_exporter": "python",
   "pygments_lexer": "ipython3",
   "version": "3.11.6"
  }
 },
 "nbformat": 4,
 "nbformat_minor": 5
}
