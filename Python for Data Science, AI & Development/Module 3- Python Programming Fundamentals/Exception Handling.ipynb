{
 "cells": [
  {
   "cell_type": "markdown",
   "id": "ab845723-cc44-4bff-bf55-a51b62178972",
   "metadata": {},
   "source": [
    "# **Exception Handling**"
   ]
  },
  {
   "cell_type": "markdown",
   "id": "63ea0786-a205-4d3a-8b79-680f57dcb33f",
   "metadata": {},
   "source": [
    "# Practice Exercises \n"
   ]
  },
  {
   "cell_type": "markdown",
   "id": "8a9c857e-0ac1-432f-8da2-c2e65fb6ecb2",
   "metadata": {},
   "source": [
    "## Exercise 1: Handling ZeroDivisionError"
   ]
  },
  {
   "cell_type": "markdown",
   "id": "a20ce9fe-468c-4ba8-9189-057bc93c9e5a",
   "metadata": {},
   "source": [
    "Imagine you have two numbers and want to determine what happens when you divide one number by the other. To do this, you need to create a Python function called `safe_divide.` You give this function two numbers, a `'numerator'` and a `'denominator'`. The 'numerator' is the number you want to divide, and the `'denominator'` is the number you want to divide by. Use the user input method of Python to take the values.\n",
    "\n",
    "The function should be able to do the division for you and give you the result. But here's the catch: if you try to divide by zero (which is not allowed in math), the function should be smart enough to catch that and tell you that it's not possible to divide by zero. Instead of showing an error, it should return None, which means 'nothing' or 'no value', and print `\"Error: Cannot divide by Zero."
   ]
  },
  {
   "cell_type": "code",
   "execution_count": 4,
   "id": "43f64676-1213-429a-839a-0c6d1f4ce7e2",
   "metadata": {},
   "outputs": [
    {
     "name": "stdin",
     "output_type": "stream",
     "text": [
      "Enter the numerator value:- 23\n",
      "Enter the denominator value:- 0\n"
     ]
    },
    {
     "name": "stdout",
     "output_type": "stream",
     "text": [
      "Error: Cannot divide by zero.\n",
      "None\n"
     ]
    }
   ],
   "source": [
    "#Type your code here\n",
    "\n",
    "def safe_divide(numerator,denominator):\n",
    "    try:\n",
    "        result = numerator / denominator\n",
    "        return result\n",
    "    except ZeroDivisionError:\n",
    "        print(\"Error: Cannot divide by zero.\")\n",
    "        return None\n",
    "# Test case\n",
    "numerator=int(input(\"Enter the numerator value:-\"))\n",
    "denominator=int(input(\"Enter the denominator value:-\"))\n",
    "print(safe_divide(numerator,denominator))"
   ]
  },
  {
   "cell_type": "markdown",
   "id": "bc636985-c2e7-4589-8443-bc516a0daf65",
   "metadata": {},
   "source": [
    "## Exercise 2: Handling ValueError"
   ]
  },
  {
   "cell_type": "markdown",
   "id": "63fa8db9-d1f1-4532-a40c-904a82ca8b44",
   "metadata": {},
   "source": [
    "Imagine you have a number and want to calculate its square root. To do this, you need to create a Python function. You give this function one number, `'number1'`.\n",
    "\n",
    "The function should generate the square root value if you provide a positive integer or float value as input. However, the function should be clever enough to detect the mistake if you enter a negative value. It should kindly inform you with a message saying, `'Invalid input! Please enter a positive integer or a float value.`"
   ]
  },
  {
   "cell_type": "code",
   "execution_count": 5,
   "id": "7fadb1ae-537c-4ce9-835c-d6e6436270cc",
   "metadata": {},
   "outputs": [
    {
     "name": "stdin",
     "output_type": "stream",
     "text": [
      "Enter the number:- 625\n"
     ]
    },
    {
     "name": "stdout",
     "output_type": "stream",
     "text": [
      "Result: 25.0\n"
     ]
    }
   ],
   "source": [
    "#Type your code here\n",
    "import math\n",
    "\n",
    "def perform_calculation(number1):\n",
    "    try:\n",
    "        result = math.sqrt(number1)\n",
    "        print(f\"Result: {result}\")\n",
    "    except ValueError:\n",
    "        print(\"Error: Invalid input! Please enter a positive integer or a float value.\")\n",
    "# Test case\n",
    "number1=float(input(\"Enter the number:-\"))\n",
    "perform_calculation(number1)\n",
    "#Note:- Test with different inputs to validate error handling."
   ]
  },
  {
   "cell_type": "markdown",
   "id": "c1f0c0d3-df60-4b6c-a02e-ba90996012d4",
   "metadata": {},
   "source": [
    "## Exercise 3: Handling Generic Exceptions"
   ]
  },
  {
   "cell_type": "code",
   "execution_count": 6,
   "id": "2d818459-2b20-49e1-b550-af70482e0b74",
   "metadata": {},
   "outputs": [
    {
     "name": "stdin",
     "output_type": "stream",
     "text": [
      "Enter the number:- -625\n"
     ]
    },
    {
     "name": "stdout",
     "output_type": "stream",
     "text": [
      "Error: Invalid input! Please enter a positive integer or a float value.\n"
     ]
    }
   ],
   "source": [
    "#Type your code here\n",
    "import math\n",
    "\n",
    "def perform_calculation(number1):\n",
    "    try:\n",
    "        result = math.sqrt(number1)\n",
    "        print(f\"Result: {result}\")\n",
    "    except ValueError:\n",
    "        print(\"Error: Invalid input! Please enter a positive integer or a float value.\")\n",
    "# Test case\n",
    "number1=float(input(\"Enter the number:-\"))\n",
    "perform_calculation(number1)\n",
    "#Note:- Test with different inputs to validate error handling."
   ]
  }
 ],
 "metadata": {
  "kernelspec": {
   "display_name": "Python 3 (ipykernel)",
   "language": "python",
   "name": "python3"
  },
  "language_info": {
   "codemirror_mode": {
    "name": "ipython",
    "version": 3
   },
   "file_extension": ".py",
   "mimetype": "text/x-python",
   "name": "python",
   "nbconvert_exporter": "python",
   "pygments_lexer": "ipython3",
   "version": "3.11.6"
  }
 },
 "nbformat": 4,
 "nbformat_minor": 5
}
