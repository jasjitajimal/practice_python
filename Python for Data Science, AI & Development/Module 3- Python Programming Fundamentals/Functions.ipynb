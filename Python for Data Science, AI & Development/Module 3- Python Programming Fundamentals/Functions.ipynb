{
 "cells": [
  {
   "cell_type": "markdown",
   "id": "c24cda44-3149-4ff8-84e9-d05741b8ab2a",
   "metadata": {},
   "source": [
    "# Functions in Python"
   ]
  },
  {
   "cell_type": "markdown",
   "id": "e8a9becd-c4f3-4f99-b9a8-a7f1d2ebbfff",
   "metadata": {},
   "source": [
    "A function is a reusable block of code which performs operations specified in the function. They let you break down tasks and allow you to reuse your code in different programs.\n",
    "\n",
    "There are two types of functions :\n",
    "\n",
    "*   <b>Pre-defined functions</b>\n",
    "*   <b>User defined functions</b>"
   ]
  },
  {
   "cell_type": "markdown",
   "id": "586410ae-87ff-44d6-9866-fe7201bc5371",
   "metadata": {},
   "source": [
    "<h3 id=\"content\">What is a Function?</h3>"
   ]
  },
  {
   "cell_type": "markdown",
   "id": "8eef2601-6dad-4987-ab85-9f2958f5ba99",
   "metadata": {},
   "source": [
    "You can define functions to provide the required functionality. Here are simple rules to define a function in Python:\n",
    "\n",
    "*   Functions blocks begin <code>def</code> followed by the function <code>name</code> and parentheses <code>()</code>.\n",
    "*   There are input parameters or arguments that should be placed within these parentheses.\n",
    "*   You can also define parameters inside these parentheses.\n",
    "*   There is a body within every function that starts with a colon (<code>:</code>) and is indented.\n",
    "*   You can also place documentation before the body.\n",
    "*   The statement <code>return</code> exits a function, optionally passing back a value.\n",
    "\n",
    "An example of a function that adds on to the parameter <code>a</code> prints and returns the output as <code>b</code>:"
   ]
  },
  {
   "cell_type": "code",
   "execution_count": 5,
   "id": "886457f6-756e-4b11-8d18-e2d6eee76fca",
   "metadata": {},
   "outputs": [],
   "source": [
    "# First function example: Add 1 to a and store as b\n",
    "\n",
    "def add(a):\n",
    "    \"\"\"\n",
    "    add 1 to a\n",
    "    \"\"\"\n",
    "    b = a + 1\n",
    "    print(a, \"if you add one\", b)\n",
    "    return(b)"
   ]
  },
  {
   "cell_type": "markdown",
   "id": "8f9d3da9-e433-4b8e-a7e4-11715e88e73c",
   "metadata": {},
   "source": [
    "<img src=\"https://cf-courses-data.s3.us.cloud-object-storage.appdomain.cloud/IBMDeveloperSkillsNetwork-PY0101EN-SkillsNetwork/labs/Module%203/images/FuncsDefinition.png\" width=\"500\"> \n"
   ]
  },
  {
   "cell_type": "markdown",
   "id": "cf6c5083-0e91-468c-b68e-859e9cbb2cfc",
   "metadata": {},
   "source": [
    "We can obtain help about a function :\n"
   ]
  },
  {
   "cell_type": "code",
   "execution_count": 8,
   "id": "d51500b4-8acc-489a-b817-f2af785d34db",
   "metadata": {},
   "outputs": [
    {
     "name": "stdout",
     "output_type": "stream",
     "text": [
      "Help on function add in module __main__:\n",
      "\n",
      "add(a)\n",
      "    add 1 to a\n",
      "\n"
     ]
    }
   ],
   "source": [
    "# Get a help on add function\n",
    "\n",
    "help(add)"
   ]
  },
  {
   "cell_type": "markdown",
   "id": "9497fd20-421f-4a01-9886-8f7f0f45571e",
   "metadata": {},
   "source": [
    "We can call the function:"
   ]
  },
  {
   "cell_type": "code",
   "execution_count": 9,
   "id": "9d251ffa-bc46-4c9e-b287-c3fee72dfdca",
   "metadata": {},
   "outputs": [
    {
     "name": "stdout",
     "output_type": "stream",
     "text": [
      "1 if you add one 2\n"
     ]
    },
    {
     "data": {
      "text/plain": [
       "2"
      ]
     },
     "execution_count": 9,
     "metadata": {},
     "output_type": "execute_result"
    }
   ],
   "source": [
    "# Call the function add()\n",
    "\n",
    "add(1)"
   ]
  },
  {
   "cell_type": "markdown",
   "id": "77fb6029-80ee-41c9-9eb6-5a42b550852a",
   "metadata": {},
   "source": [
    "If we call the function with a new input we get a new result:"
   ]
  },
  {
   "cell_type": "code",
   "execution_count": 10,
   "id": "7ff3d299-1865-4d7f-a6db-f67fee27f128",
   "metadata": {},
   "outputs": [
    {
     "name": "stdout",
     "output_type": "stream",
     "text": [
      "2 if you add one 3\n"
     ]
    },
    {
     "data": {
      "text/plain": [
       "3"
      ]
     },
     "execution_count": 10,
     "metadata": {},
     "output_type": "execute_result"
    }
   ],
   "source": [
    "# Call the function add()\n",
    "\n",
    "add(2)"
   ]
  },
  {
   "cell_type": "markdown",
   "id": "1937fb13-6fa5-49ee-ad13-40984921a2f1",
   "metadata": {},
   "source": [
    "<h3 id=\"var\">Variables</h3>\n"
   ]
  },
  {
   "cell_type": "markdown",
   "id": "168a18bb-ee14-4d4c-8206-9b9f0ef86224",
   "metadata": {},
   "source": [
    "The input to a function is called a formal parameter.\n",
    "\n",
    "A variable that is declared inside a function is called a  local variable. The parameter only exists within the function (i.e. the point where the function starts and stops).\n",
    "\n",
    "A variable that is declared outside a function definition is a global variable, and its value is accessible and modifiable throughout the program. We will discuss more about global variables at the end of the lab.\n"
   ]
  },
  {
   "cell_type": "code",
   "execution_count": 11,
   "id": "44c955c6-0e53-44e4-8e69-a0377c5d13a4",
   "metadata": {},
   "outputs": [],
   "source": [
    "# Function Definition\n",
    "\n",
    "def square(a):\n",
    "    \n",
    "    # Local variable b\n",
    "    b = 1\n",
    "    c = a * a + b\n",
    "    print(a, \"if you square + 1\", c) \n",
    "    return(c)"
   ]
  },
  {
   "cell_type": "code",
   "execution_count": 12,
   "id": "d5347ae7-4c32-4818-ad53-3aa78821b2b9",
   "metadata": {},
   "outputs": [
    {
     "name": "stdout",
     "output_type": "stream",
     "text": [
      "3 if you square + 1 10\n"
     ]
    },
    {
     "data": {
      "text/plain": [
       "10"
      ]
     },
     "execution_count": 12,
     "metadata": {},
     "output_type": "execute_result"
    }
   ],
   "source": [
    "# Initializes Global variable  \n",
    "\n",
    "x = 3\n",
    "# Makes function call and return function a y\n",
    "y = square(x)\n",
    "y"
   ]
  },
  {
   "cell_type": "code",
   "execution_count": 13,
   "id": "af4c83f7-6c9c-4d2d-826a-ae47b5d9390a",
   "metadata": {},
   "outputs": [
    {
     "name": "stdout",
     "output_type": "stream",
     "text": [
      "2 if you square + 1 5\n"
     ]
    },
    {
     "data": {
      "text/plain": [
       "5"
      ]
     },
     "execution_count": 13,
     "metadata": {},
     "output_type": "execute_result"
    }
   ],
   "source": [
    "# Directly enter a number as parameter\n",
    "\n",
    "square(2)"
   ]
  },
  {
   "cell_type": "markdown",
   "id": "a9fef934-6412-4878-a5e8-83e330baf728",
   "metadata": {},
   "source": [
    "If there is no <code>return</code> statement, the function returns <code>None</code>. The following two functions are equivalent:\n"
   ]
  },
  {
   "cell_type": "code",
   "execution_count": 14,
   "id": "2aae9c32-204a-4a1a-bcb8-bb6564902743",
   "metadata": {},
   "outputs": [],
   "source": [
    "# Define functions, one with return value None and other without return value\n",
    "\n",
    "def MJ():\n",
    "    print('Michael Jackson')\n",
    "    \n",
    "def MJ1():\n",
    "    print('Michael Jackson')\n",
    "    return(None)"
   ]
  },
  {
   "cell_type": "code",
   "execution_count": 15,
   "id": "89019126-601e-4648-85c2-731f36011ee0",
   "metadata": {},
   "outputs": [
    {
     "name": "stdout",
     "output_type": "stream",
     "text": [
      "Michael Jackson\n"
     ]
    }
   ],
   "source": [
    "# See the output\n",
    "\n",
    "MJ()"
   ]
  },
  {
   "cell_type": "code",
   "execution_count": 16,
   "id": "517dbe15-39f8-4b9f-a3d8-9a8e4322da78",
   "metadata": {},
   "outputs": [
    {
     "name": "stdout",
     "output_type": "stream",
     "text": [
      "Michael Jackson\n"
     ]
    }
   ],
   "source": [
    "MJ1()"
   ]
  },
  {
   "cell_type": "code",
   "execution_count": 18,
   "id": "7b354f8f-499a-4787-921d-3817c88a606f",
   "metadata": {},
   "outputs": [
    {
     "name": "stdout",
     "output_type": "stream",
     "text": [
      "Michael Jackson\n",
      "None\n",
      "Michael Jackson\n",
      "None\n"
     ]
    }
   ],
   "source": [
    "# See what functions returns are\n",
    "\n",
    "print(MJ())\n",
    "print(MJ1())"
   ]
  },
  {
   "cell_type": "markdown",
   "id": "bcd045c4-a48f-45ae-8370-758c42b6d3a6",
   "metadata": {},
   "source": [
    "<h2 id=\"pre\">Pre-defined functions</h2>"
   ]
  },
  {
   "cell_type": "markdown",
   "id": "5081c763-48e9-4e34-8319-b50bafff6ea1",
   "metadata": {},
   "source": [
    "There are many pre-defined functions in Python, so let's start with the simple ones."
   ]
  },
  {
   "cell_type": "markdown",
   "id": "86eb0493-4768-4001-90bf-828b76ce2e11",
   "metadata": {},
   "source": [
    "The <code>print()</code> function:"
   ]
  },
  {
   "cell_type": "code",
   "execution_count": 20,
   "id": "d54a26fb-2da8-4c4d-9a2b-9263152c2e54",
   "metadata": {},
   "outputs": [
    {
     "name": "stdout",
     "output_type": "stream",
     "text": [
      "[10.0, 8.5, 9.5, 7.0, 7.0, 9.5, 9.0, 9.5]\n"
     ]
    }
   ],
   "source": [
    "# Build-in function print()\n",
    "\n",
    "album_ratings = [10.0, 8.5, 9.5, 7.0, 7.0, 9.5, 9.0, 9.5] \n",
    "print(album_ratings)"
   ]
  },
  {
   "cell_type": "markdown",
   "id": "b22cbfe3-0cf0-4c00-bdbc-514abf60348e",
   "metadata": {},
   "source": [
    "The <code>sum()</code> function adds all the  elements in a list or tuple:"
   ]
  },
  {
   "cell_type": "code",
   "execution_count": 21,
   "id": "1d3b322b-8b26-4abb-82d4-d4a4478313f2",
   "metadata": {},
   "outputs": [
    {
     "data": {
      "text/plain": [
       "70.0"
      ]
     },
     "execution_count": 21,
     "metadata": {},
     "output_type": "execute_result"
    }
   ],
   "source": [
    "# Use sum() to add every element in a list or tuple together\n",
    "\n",
    "sum(album_ratings)"
   ]
  },
  {
   "cell_type": "markdown",
   "id": "10e00671-b552-4516-b1e8-e809e22fd025",
   "metadata": {},
   "source": [
    "The <code>len()</code> function returns the length of a list or tuple:"
   ]
  },
  {
   "cell_type": "code",
   "execution_count": 22,
   "id": "6220435f-dd41-47a7-9cea-ed7b84d84b5c",
   "metadata": {},
   "outputs": [
    {
     "data": {
      "text/plain": [
       "8"
      ]
     },
     "execution_count": 22,
     "metadata": {},
     "output_type": "execute_result"
    }
   ],
   "source": [
    "# Show the length of the list or tuple\n",
    "\n",
    "len(album_ratings)"
   ]
  },
  {
   "cell_type": "markdown",
   "id": "a7a2010c-56c6-44ad-aa39-d863e80c219f",
   "metadata": {},
   "source": [
    "<h2 id=\"pre\">In-Built functions</h2>"
   ]
  },
  {
   "cell_type": "markdown",
   "id": "ffd51463-c089-499e-8402-8f61ce45d9c7",
   "metadata": {},
   "source": [
    "In Python, an in-built function is a pre-defined function that is always available for use, providing common functionality without requiring any imports. "
   ]
  },
  {
   "cell_type": "code",
   "execution_count": 23,
   "id": "e7648168-eb9e-47f3-a172-e5f215879f6a",
   "metadata": {},
   "outputs": [
    {
     "ename": "TypeError",
     "evalue": "'int' object is not iterable",
     "output_type": "error",
     "traceback": [
      "\u001b[1;31m---------------------------------------------------------------------------\u001b[0m",
      "\u001b[1;31mTypeError\u001b[0m                                 Traceback (most recent call last)",
      "Cell \u001b[1;32mIn[23], line 3\u001b[0m\n\u001b[0;32m      1\u001b[0m \u001b[38;5;66;03m#You will see below will return an error as integer alone is not considered while using a function.It either has to be in the form of tuple, list or a set.\u001b[39;00m\n\u001b[1;32m----> 3\u001b[0m \u001b[38;5;28;43msum\u001b[39;49m\u001b[43m(\u001b[49m\u001b[38;5;241;43m1\u001b[39;49m\u001b[43m,\u001b[49m\u001b[38;5;241;43m2\u001b[39;49m\u001b[43m)\u001b[49m\n",
      "\u001b[1;31mTypeError\u001b[0m: 'int' object is not iterable"
     ]
    }
   ],
   "source": [
    "#You will see below will return an error as integer alone is not considered while using a function.It either has to be in the form of tuple, list or a set.\n",
    "\n",
    "sum(1,2)"
   ]
  },
  {
   "cell_type": "code",
   "execution_count": 24,
   "id": "3c8e363b-6960-4ddb-8024-4c6eb6dd55a1",
   "metadata": {},
   "outputs": [
    {
     "name": "stdout",
     "output_type": "stream",
     "text": [
      "The sum of the elements in the tuple (1, 2) is 3.\n"
     ]
    }
   ],
   "source": [
    "# Define a tuple\n",
    "a = (1, 2)\n",
    "\n",
    "# Pass the tuple to the sum function and store the result in a variable\n",
    "c = sum(a)\n",
    "\n",
    "# Print the result\n",
    "print(f\"The sum of the elements in the tuple {a} is {c}.\")"
   ]
  },
  {
   "cell_type": "code",
   "execution_count": 25,
   "id": "e996ea2a-d0e1-4b78-bfaa-ab461ef8ef89",
   "metadata": {},
   "outputs": [
    {
     "name": "stdout",
     "output_type": "stream",
     "text": [
      "The sum of the elements in the list [1, 2] is 3.\n"
     ]
    }
   ],
   "source": [
    "# Define a list\n",
    "a = [1, 2]\n",
    "\n",
    "# Pass the list to the sum function and store the result in a variable\n",
    "c = sum(a)\n",
    "\n",
    "# Print the result\n",
    "print(f\"The sum of the elements in the list {a} is {c}.\")"
   ]
  },
  {
   "cell_type": "markdown",
   "id": "7c0772f1-c4b0-402e-bb87-42397e7a01a1",
   "metadata": {},
   "source": [
    "<h2 id=\"if\">Using <code>if</code>/<code>else</code> Statements and Loops in Functions</h2>"
   ]
  },
  {
   "cell_type": "markdown",
   "id": "46ac4fda-c084-4d12-92bf-4edba174a414",
   "metadata": {},
   "source": [
    "The <code>return()</code> function is particularly useful if you have any IF statements in the function, when you want your output to be dependent on some condition:\n"
   ]
  },
  {
   "cell_type": "code",
   "execution_count": 26,
   "id": "b7011548-850f-4327-8670-5874776b8526",
   "metadata": {},
   "outputs": [
    {
     "name": "stdout",
     "output_type": "stream",
     "text": [
      "Michael Jackson Thriller 1980\n",
      "Oldie\n"
     ]
    }
   ],
   "source": [
    "# Function example\n",
    "\n",
    "def type_of_album(artist, album, year_released):\n",
    "    \n",
    "    print(artist, album, year_released)\n",
    "    if year_released > 1980:\n",
    "        return \"Modern\"\n",
    "    else:\n",
    "        return \"Oldie\"\n",
    "    \n",
    "x = type_of_album(\"Michael Jackson\", \"Thriller\", 1980)\n",
    "print(x)"
   ]
  },
  {
   "cell_type": "markdown",
   "id": "fa9f2541-609b-4216-b20f-4e14413a2e30",
   "metadata": {},
   "source": [
    "We can use a loop in a function. For example, we can <code>print</code> out each element in a list:"
   ]
  },
  {
   "cell_type": "code",
   "execution_count": 27,
   "id": "64fb2536-695f-40b8-b444-94a5a7eaf849",
   "metadata": {},
   "outputs": [],
   "source": [
    "# Print the list using for loop\n",
    "\n",
    "def PrintList(the_list):\n",
    "    for element in the_list:\n",
    "        print(element)"
   ]
  },
  {
   "cell_type": "code",
   "execution_count": 28,
   "id": "66f649e2-c3c9-48b0-a2f6-97f32154bcfb",
   "metadata": {},
   "outputs": [
    {
     "name": "stdout",
     "output_type": "stream",
     "text": [
      "1\n",
      "1\n",
      "the man\n",
      "abc\n"
     ]
    }
   ],
   "source": [
    "# Implement the printlist function\n",
    "\n",
    "PrintList(['1', 1, 'the man', \"abc\"])"
   ]
  },
  {
   "cell_type": "markdown",
   "id": "f4716edb-253e-4883-aecc-0b5db845869f",
   "metadata": {},
   "source": [
    "<h2 id=\"if\">String comparison in Functions</h2>\n"
   ]
  },
  {
   "cell_type": "markdown",
   "id": "1c28cec6-2378-4c7f-83b6-66a7d8a00d9b",
   "metadata": {},
   "source": [
    "The relational operators compare the Unicode values of the characters of the strings from the zeroth index till the end of the string. It then returns a boolean value according to the operator used.\n"
   ]
  },
  {
   "cell_type": "code",
   "execution_count": 30,
   "id": "9642dd17-bbfa-4bf3-9944-6155ae593d80",
   "metadata": {},
   "outputs": [
    {
     "data": {
      "text/plain": [
       "'String matched'"
      ]
     },
     "execution_count": 30,
     "metadata": {},
     "output_type": "execute_result"
    }
   ],
   "source": [
    "#Compare Two Strings Directly using in operator\n",
    "# add string\n",
    "string= \"Michael Jackson is the best\"\n",
    "\n",
    "# Define a funtion\n",
    "def check_string(text):\n",
    "    \n",
    "# Use if else statement and 'in' operatore to compare the string\n",
    "    if text in string:\n",
    "        return 'String matched'\n",
    "    else:\n",
    "        return 'String not matched'\n",
    "\n",
    "check_string(\"Michael Jackson is the best\")"
   ]
  },
  {
   "cell_type": "markdown",
   "id": "6b08f4cd-ecda-4bd9-a6f4-aaeae5afa765",
   "metadata": {},
   "source": [
    "This program uses a user-defined function named compareStrings() to compare two strings. \n",
    "\n",
    "This function receives both strings as its argument and returns 1 if both strings are equal using == operator"
   ]
  },
  {
   "cell_type": "code",
   "execution_count": 31,
   "id": "c4f20eeb-b8bf-4f07-86e7-33007a98e8e2",
   "metadata": {},
   "outputs": [
    {
     "name": "stdout",
     "output_type": "stream",
     "text": [
      "\n",
      "String Matched\n"
     ]
    }
   ],
   "source": [
    "#Compare two strings using == operator and function\n",
    "def compareStrings(x, y):\n",
    "# Use if else statement to compare x and y\n",
    "    if x==y:\n",
    "        return 1\n",
    "    \n",
    "# Declare two different variables as string1 and string2 and pass string in it\n",
    "string1 = \"Michael Jackson is the best\"\n",
    "string2 = \"Michael Jackson is the best\"\n",
    "\n",
    "# Declare a variable to store result after comparing both the strings\n",
    "check = compareStrings(string1, string2)\n",
    "\n",
    "#Use if else statement to compare the string\n",
    "if check==1:\n",
    "    print(\"\\nString Matched\")\n",
    "else:\n",
    "    print(\"\\nString not Matched\")"
   ]
  },
  {
   "cell_type": "markdown",
   "id": "598c4d2b-3522-4062-93f5-e3da17086038",
   "metadata": {},
   "source": [
    "**Count the Frequency of Words Appearing in a String Using a Dictionary.** \n",
    "\n",
    "Find the count of occurence of any word in our string using python. This is what we are going to do in this section, count the number of word in a given string and print it.\n",
    "\n",
    "Lets suppose we have a ‘string’ and the ‘word’ and we need to find the count of occurence of this word in our string using python. This is what we are going to do in this section, count the number of word in a given string and print it. \n",
    "\n",
    "The first thing, we will do is define a function and and then create a list that will be empty initially.\n",
    "\n",
    "Next, we will add a code to convert the string to a list. Python string has a split() method. It takes a string and some separator to return a list.\n",
    "\n",
    "Now we will declare an empty dictionary.\n",
    "\n",
    "Next we will add code using for loop to iterate the words and value will will count the frequency of each words in the string and store them to the dictionary.\n",
    "\n",
    "Finally we will print the dictionary."
   ]
  },
  {
   "cell_type": "code",
   "execution_count": 32,
   "id": "0d5d6e44-2ac6-42d6-bd71-3aef7354e920",
   "metadata": {},
   "outputs": [
    {
     "name": "stdout",
     "output_type": "stream",
     "text": [
      "The Frequency of words is: {'Mary': 6, 'had': 2, 'a': 2, 'little': 3, 'lamb': 3, 'Little': 1, 'lamb,': 1, 'lamb.Its': 1, 'fleece': 1, 'was': 2, 'white': 1, 'as': 1, 'snow': 1, 'And': 1, 'everywhere': 1, 'that': 2, 'went': 3, 'went,': 1, 'Everywhere': 1, 'The': 1, 'sure': 1, 'to': 1, 'go': 1}\n"
     ]
    }
   ],
   "source": [
    "# Python Program to Count words in a String using Dictionary\n",
    "def freq(string):\n",
    "    \n",
    "    #step1: A list variable is declared and initialized to an empty list.\n",
    "    words = []\n",
    "    \n",
    "    #step2: Break the string into list of words\n",
    "    words = string.split() # or string.lower().split()\n",
    "    \n",
    "    #step3: Declare a dictionary\n",
    "    Dict = {}\n",
    "    \n",
    "    #step4: Use for loop to iterate words and values to the dictionary\n",
    "    for key in words:\n",
    "        Dict[key] = words.count(key)\n",
    "        \n",
    "    #step5: Print the dictionary\n",
    "    print(\"The Frequency of words is:\",Dict)\n",
    "    \n",
    "#step6: Call function and pass string in it\n",
    "freq(\"Mary had a little lamb Little lamb, little lamb Mary had a little lamb.Its fleece was white as snow And everywhere that Mary went Mary went, Mary went \\\n",
    "Everywhere that Mary went The lamb was sure to go\")"
   ]
  },
  {
   "cell_type": "markdown",
   "id": "9f0c5d02-88fc-4ea9-9308-9bde56752b27",
   "metadata": {},
   "source": [
    "<h2 id=\"default\">Setting default argument values in your custom functions</h2>"
   ]
  },
  {
   "cell_type": "code",
   "execution_count": 33,
   "id": "47d6c70e-3496-432e-aa0a-8410542784ec",
   "metadata": {},
   "outputs": [],
   "source": [
    "# Example for setting param with default value\n",
    "\n",
    "def isGoodRating(rating=4): \n",
    "    if(rating < 7):\n",
    "        print(\"this album sucks it's rating is\",rating)\n",
    "        \n",
    "    else:\n",
    "        print(\"this album is good its rating is\",rating)"
   ]
  },
  {
   "cell_type": "code",
   "execution_count": 34,
   "id": "2f121f7d-7ba3-43a9-b000-ba0137310f28",
   "metadata": {},
   "outputs": [
    {
     "name": "stdout",
     "output_type": "stream",
     "text": [
      "this album sucks it's rating is 4\n",
      "this album is good its rating is 10\n"
     ]
    }
   ],
   "source": [
    "# Test the value with default value and with input\n",
    "\n",
    "isGoodRating()\n",
    "isGoodRating(10)"
   ]
  },
  {
   "cell_type": "markdown",
   "id": "4f5c0f56-1d1e-410e-bb72-9b3aaa586ae4",
   "metadata": {},
   "source": [
    "<u> <b> See Confluence notes for more on global variable and scope od a variable. </u>"
   ]
  },
  {
   "cell_type": "markdown",
   "id": "8178ce8b-54ca-4f92-b5c7-4401b9a8dd07",
   "metadata": {},
   "source": [
    "<h2 id =\"collec\"> Collections and Functions</h2>"
   ]
  },
  {
   "cell_type": "markdown",
   "id": "8f28aa89-6b3a-4f02-9d8d-13a42f8b1c71",
   "metadata": {},
   "source": [
    "When the number of arguments  are unknown for a function, They can all be packed into a tuple as shown:"
   ]
  },
  {
   "cell_type": "code",
   "execution_count": 36,
   "id": "3b03d179-3aaf-4d39-af01-389e6f2882d3",
   "metadata": {},
   "outputs": [
    {
     "name": "stdout",
     "output_type": "stream",
     "text": [
      "No of arguments: 3\n",
      "Horsefeather\n",
      "Adonis\n",
      "Bone\n",
      "No of arguments: 4\n",
      "Sidecar\n",
      "Long Island\n",
      "Mudslide\n",
      "Carriage\n"
     ]
    }
   ],
   "source": [
    "def printAll(*args): # All the arguments are 'packed' into args which can be treated like a tuple\n",
    "    print(\"No of arguments:\", len(args)) \n",
    "    for argument in args:\n",
    "        print(argument)\n",
    "#printAll with 3 arguments\n",
    "printAll('Horsefeather','Adonis','Bone')\n",
    "#printAll with 4 arguments\n",
    "printAll('Sidecar','Long Island','Mudslide','Carriage')"
   ]
  },
  {
   "cell_type": "markdown",
   "id": "6544f001-69ce-4c29-8afd-992871c168c7",
   "metadata": {},
   "source": [
    "Similarly, The arguments can also be packed into a dictionary as shown:"
   ]
  },
  {
   "cell_type": "code",
   "execution_count": 37,
   "id": "4db5078b-03c6-4de2-9134-7733769e77c3",
   "metadata": {},
   "outputs": [
    {
     "name": "stdout",
     "output_type": "stream",
     "text": [
      "Country : Canada\n",
      "Province : Ontario\n",
      "City : Toronto\n"
     ]
    }
   ],
   "source": [
    "def printDictionary(**args):\n",
    "    for key in args:\n",
    "        print(key + \" : \" + args[key])\n",
    "\n",
    "printDictionary(Country='Canada',Province='Ontario',City='Toronto')\n",
    "    "
   ]
  },
  {
   "cell_type": "markdown",
   "id": "6a9c2537-e576-42d7-b572-bc8cc32ea409",
   "metadata": {},
   "source": [
    "Functions can be incredibly powerful and versatile. They can accept (and return) data types, objects and even other functions as arguements. Consider the example below:\n"
   ]
  },
  {
   "cell_type": "code",
   "execution_count": 38,
   "id": "af128867-65d5-4ad9-b65e-58e4bb3cc547",
   "metadata": {},
   "outputs": [
    {
     "data": {
      "text/plain": [
       "['One', 'Two', 'Three', 'Four']"
      ]
     },
     "execution_count": 38,
     "metadata": {},
     "output_type": "execute_result"
    }
   ],
   "source": [
    "def addItems(list):\n",
    "    list.append(\"Three\")\n",
    "    list.append(\"Four\")\n",
    "\n",
    "myList = [\"One\",\"Two\"]\n",
    "\n",
    "addItems(myList)\n",
    "\n",
    "myList"
   ]
  },
  {
   "cell_type": "markdown",
   "id": "64a07f4b-4205-4f91-9200-eec17ca6d1be",
   "metadata": {},
   "source": [
    "<h2>Quiz on Functions</h2>"
   ]
  },
  {
   "cell_type": "markdown",
   "id": "40895ded-ad05-4864-a99e-9cdb9934111a",
   "metadata": {},
   "source": [
    "<b> 1) Come up with a function that divides the first input by the second input:\n"
   ]
  },
  {
   "cell_type": "code",
   "execution_count": 42,
   "id": "16264348-2cc4-40a3-873f-7546db46affc",
   "metadata": {},
   "outputs": [
    {
     "data": {
      "text/plain": [
       "65.5"
      ]
     },
     "execution_count": 42,
     "metadata": {},
     "output_type": "execute_result"
    }
   ],
   "source": [
    "# Write your code below and press Shift+Enter to execute\n",
    "def div(a, b):\n",
    "    return(a/b)\n",
    "div(393,6)"
   ]
  },
  {
   "cell_type": "markdown",
   "id": "249b387b-da90-4b87-a8ee-cdb9c2e68fc1",
   "metadata": {},
   "source": [
    "<b> 2) Use the function <code>con</code> for the following question.\n"
   ]
  },
  {
   "cell_type": "code",
   "execution_count": 43,
   "id": "efa83eb3-cb89-4300-bf0c-60878978cf7b",
   "metadata": {},
   "outputs": [],
   "source": [
    "# Use the con function for the following question\n",
    "\n",
    "def con(a, b):\n",
    "    return(a + b)"
   ]
  },
  {
   "cell_type": "markdown",
   "id": "aabb7e43-501a-40ef-9366-f3165afe1db8",
   "metadata": {},
   "source": [
    "<b> 2.1) Can the <code>con</code> function we defined before be used to add two integers or strings?\n"
   ]
  },
  {
   "cell_type": "code",
   "execution_count": 45,
   "id": "75ad3da8-2f66-456c-87e5-e1de45c02228",
   "metadata": {},
   "outputs": [
    {
     "data": {
      "text/plain": [
       "4"
      ]
     },
     "execution_count": 45,
     "metadata": {},
     "output_type": "execute_result"
    }
   ],
   "source": [
    "# Write your code below and press Shift+Enter to execute\n",
    "# Yes, for example: \n",
    "con(2, 2)"
   ]
  },
  {
   "cell_type": "markdown",
   "id": "3a258b48-82a7-48f8-9743-89b1b00ae0fe",
   "metadata": {},
   "source": [
    "<b> 2.2) Can the <code>con</code> function we defined before be used to concatenate lists or tuples?\n"
   ]
  },
  {
   "cell_type": "code",
   "execution_count": 46,
   "id": "8fad5fca-2256-4849-bad3-e1f5896c279f",
   "metadata": {},
   "outputs": [
    {
     "data": {
      "text/plain": [
       "['a', 1, 'b', 1]"
      ]
     },
     "execution_count": 46,
     "metadata": {},
     "output_type": "execute_result"
    }
   ],
   "source": [
    "# Write your code below and press Shift+Enter to execute\n",
    "# Yes, for example: \n",
    "con(['a', 1], ['b', 1])"
   ]
  },
  {
   "cell_type": "markdown",
   "id": "ab089830-8f93-4e6a-b5ea-d98539c8a71a",
   "metadata": {},
   "source": [
    "<b> 3) Write a function code to find total count of word `little` in the given string: \n",
    "`\"Mary had a little lamb Little lamb, little lamb Mary had a little lamb.Its fleece was white as snow And everywhere that Mary went Mary went, Mary went Everywhere that Mary went The lamb was sure to go\"**`"
   ]
  },
  {
   "cell_type": "code",
   "execution_count": 47,
   "id": "52a59504-9d33-49e7-b8f5-ade7273b96ce",
   "metadata": {},
   "outputs": [
    {
     "name": "stdout",
     "output_type": "stream",
     "text": [
      "Total Count: {'little': 3}\n"
     ]
    }
   ],
   "source": [
    "# Python Program to Count words in a String using Dictionary\n",
    "def freq(string,passedkey):\n",
    "\n",
    "    #step1: A list variable is declared and initialized to an empty list.\n",
    "    words = []\n",
    "\n",
    "    #step2: Break the string into list of words\n",
    "    words = string.split() # or string.lower().split()\n",
    "\n",
    "    #step3: Declare a dictionary\n",
    "    Dict = {}\n",
    "\n",
    "    #step4: Use for loop to iterate words and values to the dictionary\n",
    "    for key in words:\n",
    "        if(key == passedkey):\n",
    "            Dict[key] = words.count(key)   \n",
    "    #step5: Print the dictionary\n",
    "    print(\"Total Count:\",Dict)\n",
    "\n",
    "#step6: Call function and pass string in it\n",
    "freq(\"Mary had a little lamb Little lamb, little lamb Mary had a little lamb.Its fleece was white as snow And everywhere that Mary went Mary went, Mary went \\\n",
    "Everywhere that Mary went The lamb was sure to go\",\"little\")"
   ]
  }
 ],
 "metadata": {
  "kernelspec": {
   "display_name": "Python 3 (ipykernel)",
   "language": "python",
   "name": "python3"
  },
  "language_info": {
   "codemirror_mode": {
    "name": "ipython",
    "version": 3
   },
   "file_extension": ".py",
   "mimetype": "text/x-python",
   "name": "python",
   "nbconvert_exporter": "python",
   "pygments_lexer": "ipython3",
   "version": "3.11.6"
  }
 },
 "nbformat": 4,
 "nbformat_minor": 5
}
