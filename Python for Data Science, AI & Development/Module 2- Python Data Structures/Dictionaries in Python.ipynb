{
 "cells": [
  {
   "cell_type": "markdown",
   "id": "78247df8-911b-4f19-8590-dc1cf5db79b4",
   "metadata": {},
   "source": [
    "# Dictionaries in Python"
   ]
  },
  {
   "cell_type": "code",
   "execution_count": 3,
   "id": "50c34906-2ec2-4819-afc9-d345d105943e",
   "metadata": {},
   "outputs": [
    {
     "data": {
      "text/plain": [
       "{'key1': 1,\n",
       " 'key2': '2',\n",
       " 'key3': [3, 3, 3],\n",
       " 'key4': (4, 4, 4),\n",
       " 'key5': 5,\n",
       " (0, 1): 6}"
      ]
     },
     "execution_count": 3,
     "metadata": {},
     "output_type": "execute_result"
    }
   ],
   "source": [
    "# Create the dictionary\n",
    "\n",
    "Dict = {\"key1\": 1, \"key2\": \"2\", \"key3\": [3, 3, 3], \"key4\": (4, 4, 4), ('key5'): 5, (0, 1): 6}\n",
    "Dict"
   ]
  },
  {
   "cell_type": "code",
   "execution_count": 4,
   "id": "837408b4-2d79-46a6-b628-899a3da7666e",
   "metadata": {},
   "outputs": [
    {
     "data": {
      "text/plain": [
       "6"
      ]
     },
     "execution_count": 4,
     "metadata": {},
     "output_type": "execute_result"
    }
   ],
   "source": [
    "# Access to the value by the key\n",
    "\n",
    "Dict[(0, 1)]"
   ]
  },
  {
   "cell_type": "markdown",
   "id": "ee040cd7-52fc-4c5e-a7a1-3678487880f8",
   "metadata": {},
   "source": [
    "Each key is separated from its value by a colon \"<code>:</code>\".  Commas separate the items, and the whole dictionary is enclosed in curly braces. An empty dictionary without any items is written with just two curly braces, like this  \"<code>{}</code>\".\n"
   ]
  },
  {
   "cell_type": "code",
   "execution_count": 5,
   "id": "1b52a4ca-6057-4c64-a92d-42c428759cf4",
   "metadata": {},
   "outputs": [
    {
     "data": {
      "text/plain": [
       "{'Thriller': '1982',\n",
       " 'Back in Black': '1980',\n",
       " 'The Dark Side of the Moon': '1973',\n",
       " 'The Bodyguard': '1992',\n",
       " 'Bat Out of Hell': '1977',\n",
       " 'Their Greatest Hits (1971-1975)': '1976',\n",
       " 'Saturday Night Fever': '1977',\n",
       " 'Rumours': '1977'}"
      ]
     },
     "execution_count": 5,
     "metadata": {},
     "output_type": "execute_result"
    }
   ],
   "source": [
    "# Create a sample dictionary\n",
    "\n",
    "release_year_dict = {\"Thriller\": \"1982\", \"Back in Black\": \"1980\", \\\n",
    "                    \"The Dark Side of the Moon\": \"1973\", \"The Bodyguard\": \"1992\", \\\n",
    "                    \"Bat Out of Hell\": \"1977\", \"Their Greatest Hits (1971-1975)\": \"1976\", \\\n",
    "                    \"Saturday Night Fever\": \"1977\", \"Rumours\": \"1977\"}\n",
    "release_year_dict"
   ]
  },
  {
   "cell_type": "code",
   "execution_count": 6,
   "id": "a3964b97-f7dd-47ce-bf40-7345c19ff8be",
   "metadata": {},
   "outputs": [
    {
     "data": {
      "text/plain": [
       "'1982'"
      ]
     },
     "execution_count": 6,
     "metadata": {},
     "output_type": "execute_result"
    }
   ],
   "source": [
    "# Get value by keys\n",
    "\n",
    "release_year_dict['Thriller'] "
   ]
  },
  {
   "cell_type": "code",
   "execution_count": 7,
   "id": "89e4edae-a50f-4354-b46c-b26afdf71eac",
   "metadata": {},
   "outputs": [
    {
     "data": {
      "text/plain": [
       "dict_keys(['Thriller', 'Back in Black', 'The Dark Side of the Moon', 'The Bodyguard', 'Bat Out of Hell', 'Their Greatest Hits (1971-1975)', 'Saturday Night Fever', 'Rumours'])"
      ]
     },
     "execution_count": 7,
     "metadata": {},
     "output_type": "execute_result"
    }
   ],
   "source": [
    "# Get all the keys in dictionary\n",
    "\n",
    "release_year_dict.keys() "
   ]
  },
  {
   "cell_type": "code",
   "execution_count": 8,
   "id": "2f53d6e3-d7be-4e35-bec8-e17d95e2ab47",
   "metadata": {},
   "outputs": [
    {
     "data": {
      "text/plain": [
       "{'Thriller': '1982',\n",
       " 'Back in Black': '1980',\n",
       " 'The Dark Side of the Moon': '1973',\n",
       " 'The Bodyguard': '1992',\n",
       " 'Bat Out of Hell': '1977',\n",
       " 'Their Greatest Hits (1971-1975)': '1976',\n",
       " 'Saturday Night Fever': '1977',\n",
       " 'Rumours': '1977',\n",
       " 'Graduation': '2007'}"
      ]
     },
     "execution_count": 8,
     "metadata": {},
     "output_type": "execute_result"
    }
   ],
   "source": [
    "# Append value with key into dictionary\n",
    "\n",
    "release_year_dict['Graduation'] = '2007'\n",
    "release_year_dict"
   ]
  },
  {
   "cell_type": "markdown",
   "id": "ea8d4110-094e-46b1-b217-882c6965003f",
   "metadata": {},
   "source": [
    "## Quiz on Dictionaries"
   ]
  },
  {
   "cell_type": "code",
   "execution_count": 9,
   "id": "16a5c8e6-0ff3-4c17-8003-b1d5005683e9",
   "metadata": {},
   "outputs": [
    {
     "data": {
      "text/plain": [
       "{'The Bodyguard': '1992', 'Saturday Night Fever': '1977'}"
      ]
     },
     "execution_count": 9,
     "metadata": {},
     "output_type": "execute_result"
    }
   ],
   "source": [
    "# Question sample dictionary\n",
    "\n",
    "soundtrack_dic = {\"The Bodyguard\":\"1992\", \"Saturday Night Fever\":\"1977\"}\n",
    "soundtrack_dic "
   ]
  },
  {
   "cell_type": "markdown",
   "id": "f06bd1e1-7612-4718-98de-7a55ba9502da",
   "metadata": {},
   "source": [
    "<b> 1) In the dictionary <code>soundtrack_dic</code> what are the keys ?"
   ]
  },
  {
   "cell_type": "code",
   "execution_count": 10,
   "id": "4e2ad437-ee9e-434b-b2f9-4ff0c242d5ad",
   "metadata": {},
   "outputs": [
    {
     "data": {
      "text/plain": [
       "dict_keys(['The Bodyguard', 'Saturday Night Fever'])"
      ]
     },
     "execution_count": 10,
     "metadata": {},
     "output_type": "execute_result"
    }
   ],
   "source": [
    "# Write your code below and press Shift+Enter to execute\n",
    "soundtrack_dic.keys()"
   ]
  },
  {
   "cell_type": "markdown",
   "id": "6fffe80a-f495-45b5-a03d-a9baad543fb7",
   "metadata": {},
   "source": [
    "<b> 2) In the dictionary <code>soundtrack_dic</code> what are the values ?"
   ]
  },
  {
   "cell_type": "code",
   "execution_count": 11,
   "id": "4a6b61ad-82e0-45ef-97d7-80751b36aa4e",
   "metadata": {},
   "outputs": [
    {
     "data": {
      "text/plain": [
       "dict_values(['1992', '1977'])"
      ]
     },
     "execution_count": 11,
     "metadata": {},
     "output_type": "execute_result"
    }
   ],
   "source": [
    "# Write your code below and press Shift+Enter to execute\n",
    "soundtrack_dic.values() "
   ]
  },
  {
   "cell_type": "markdown",
   "id": "b582afbf-110b-47aa-8e0f-1464aafac6cf",
   "metadata": {},
   "source": [
    "#### <b>You will need this dictionary for the following questions:</b>"
   ]
  },
  {
   "cell_type": "markdown",
   "id": "6f9ec05d-e728-454f-9898-cbe10dbe111c",
   "metadata": {},
   "source": [
    "The Albums <b>Back in Black</b>, <b>The Bodyguard</b> and <b>Thriller</b> have the following music recording sales in millions 50, 50 and 65 respectively:"
   ]
  },
  {
   "cell_type": "markdown",
   "id": "11fe592b-e8d1-4582-8d11-66069413ebe9",
   "metadata": {},
   "source": [
    "<b> 3) Create a dictionary <code>album_sales_dict</code> where the keys are the album name and the sales in millions are the values."
   ]
  },
  {
   "cell_type": "code",
   "execution_count": 12,
   "id": "d2e831bf-c6d1-4f27-994d-3c932b6c3cf7",
   "metadata": {},
   "outputs": [],
   "source": [
    "# Write your code below and press Shift+Enter to execute\n",
    "album_sales_dict = {\"The Bodyguard\":50, \"Back in Black\":50, \"Thriller\":65}"
   ]
  },
  {
   "cell_type": "markdown",
   "id": "53d74989-8d7c-4928-8c14-8db307254476",
   "metadata": {},
   "source": [
    "<b> 4)  Use the dictionary to find the total sales of Thriller:"
   ]
  },
  {
   "cell_type": "code",
   "execution_count": 13,
   "id": "df15ffdb-e6aa-465a-a95c-a44165063b20",
   "metadata": {},
   "outputs": [
    {
     "data": {
      "text/plain": [
       "65"
      ]
     },
     "execution_count": 13,
     "metadata": {},
     "output_type": "execute_result"
    }
   ],
   "source": [
    "# Write your code below and press Shift+Enter to execute\n",
    "album_sales_dict[\"Thriller\"]"
   ]
  },
  {
   "cell_type": "markdown",
   "id": "97b8bef3-a5ff-48f6-953c-42e04aec3b0e",
   "metadata": {},
   "source": [
    "<b> 5) Find the names of the albums from the dictionary using the method <code>keys()</code>:"
   ]
  },
  {
   "cell_type": "code",
   "execution_count": 14,
   "id": "2d283031-8133-486e-865b-3c59bc584218",
   "metadata": {},
   "outputs": [
    {
     "data": {
      "text/plain": [
       "dict_keys(['The Bodyguard', 'Back in Black', 'Thriller'])"
      ]
     },
     "execution_count": 14,
     "metadata": {},
     "output_type": "execute_result"
    }
   ],
   "source": [
    "# Write your code below and press Shift+Enter to execute\n",
    "album_sales_dict.keys()"
   ]
  },
  {
   "cell_type": "markdown",
   "id": "f0de710f-6908-4808-ab89-d37e1a7ec58f",
   "metadata": {},
   "source": [
    "<b> 6) Find the values of the recording sales from the dictionary using the method <code>values</code>:"
   ]
  },
  {
   "cell_type": "code",
   "execution_count": 17,
   "id": "30492100-1798-45db-b8be-3823f26b6394",
   "metadata": {},
   "outputs": [
    {
     "data": {
      "text/plain": [
       "dict_values([50, 50, 65])"
      ]
     },
     "execution_count": 17,
     "metadata": {},
     "output_type": "execute_result"
    }
   ],
   "source": [
    "# Write your code below and press Shift+Enter to execute\n",
    "album_sales_dict.values() "
   ]
  },
  {
   "cell_type": "markdown",
   "id": "76be20ca-63a8-4b27-a613-44cc88bc40b8",
   "metadata": {},
   "source": [
    "## Scenario:Inventory Store"
   ]
  },
  {
   "cell_type": "markdown",
   "id": "a2681204-679a-4c1e-a826-3e54638e4bcb",
   "metadata": {},
   "source": [
    "The inventory store scenario project utilizes a dictionary-based approach to develop a robust system for managing and tracking inventory in a retail store.\n",
    "<br>"
   ]
  },
  {
   "cell_type": "markdown",
   "id": "d800cc08-6e8c-4af5-9c70-26a92f33d576",
   "metadata": {},
   "source": [
    "## Task-1 Create an empty dictionary "
   ]
  },
  {
   "cell_type": "markdown",
   "id": "60776350-876b-4dd0-abf9-a4d1fc722fbd",
   "metadata": {},
   "source": [
    "First you need to create an empty dictionary, where you will be storing the product details."
   ]
  },
  {
   "cell_type": "code",
   "execution_count": 19,
   "id": "b44f5a38-6853-4453-a397-f02b406e28db",
   "metadata": {},
   "outputs": [],
   "source": [
    "#Type your code here\n",
    "inventory ={}"
   ]
  },
  {
   "cell_type": "markdown",
   "id": "2230d0a7-b07c-40c4-a6dd-1f55ae49af0c",
   "metadata": {},
   "source": [
    "## Task-2 Store the first product details in variable\n",
    "* Product Name= Mobile phone\n",
    "* Product Quantity= 5\n",
    "* Product price= 20000\n",
    "* Product Release Year= 2020"
   ]
  },
  {
   "cell_type": "code",
   "execution_count": 21,
   "id": "6f055425-1419-458a-a192-2da36ef5abd6",
   "metadata": {},
   "outputs": [],
   "source": [
    "#type your code here\n",
    "ProductNo1 = \"Mobile Phone\"\n",
    "ProductNo1_quantity = 5\n",
    "ProductNo1_price = 20000\n",
    "ProductNo1_releaseYear= 2020"
   ]
  },
  {
   "cell_type": "markdown",
   "id": "280cbe43-5d05-46d3-ba54-6888f0709004",
   "metadata": {},
   "source": [
    "## Task-3 Add the details in inventory"
   ]
  },
  {
   "cell_type": "code",
   "execution_count": 23,
   "id": "8b617f70-aec1-4f07-8a82-5757ebc107b1",
   "metadata": {},
   "outputs": [],
   "source": [
    "#Type your code here\n",
    "inventory[\"ProductNo1\"]= ProductNo1\n",
    "inventory[\"ProductNo1_quantity\"]= ProductNo1_quantity\n",
    "inventory[\"ProductNo1_price\"]= ProductNo1_price\n",
    "inventory[\"ProductNo1_releaseYear\"]=ProductNo1_releaseYear"
   ]
  },
  {
   "cell_type": "markdown",
   "id": "47aa4365-31c8-4e1a-91e4-8d0f8ff8fd60",
   "metadata": {},
   "source": [
    "## Task-4 Store the second product details in a variable.\n",
    "* Product Name= \"Laptop\"\n",
    "* Product Quantity= 10\n",
    "* Product price = 50000\n",
    "* Product Release Year= 2023"
   ]
  },
  {
   "cell_type": "code",
   "execution_count": 25,
   "id": "f295c7ac-2708-4703-b3d3-b7c54e0af1a8",
   "metadata": {},
   "outputs": [],
   "source": [
    "#type your code here\n",
    "ProductNo2 = \"Laptop\"\n",
    "ProductNo2_quantity = 10\n",
    "ProductNo2_price = 50000\n",
    "ProductNo2_releaseYear= 2023"
   ]
  },
  {
   "cell_type": "markdown",
   "id": "f31b4475-1de4-4714-8302-fe04c83b5609",
   "metadata": {},
   "source": [
    "## Task-5 Add the item detail into the inventory."
   ]
  },
  {
   "cell_type": "code",
   "execution_count": 26,
   "id": "3acdfeea-2e51-4bbe-83c1-e7a51885f71f",
   "metadata": {},
   "outputs": [],
   "source": [
    "#type your code here\n",
    "inventory[\"ProductNo2\"]= ProductNo2\n",
    "inventory[\"ProductNo2_quantity\"]= ProductNo2_quantity\n",
    "inventory[\"ProductNo2_price\"]= ProductNo2_price\n",
    "inventory[\"ProductNo2_releaseYear\"]=ProductNo2_releaseYear"
   ]
  },
  {
   "cell_type": "markdown",
   "id": "ffd6932f-1091-4547-8fb0-c011bcfd2af8",
   "metadata": {},
   "source": [
    "## Task-6 Display the Products present in the inventory\n",
    "Use print statement for displaying the products"
   ]
  },
  {
   "cell_type": "code",
   "execution_count": 28,
   "id": "48d04237-06f1-4c56-aa86-1c39360f5a6b",
   "metadata": {},
   "outputs": [
    {
     "name": "stdout",
     "output_type": "stream",
     "text": [
      "{'ProductNo1': 'Mobile Phone', 'ProductNo1_quantity': 5, 'ProductNo1_price': 20000, 'ProductNo1_releaseYear': 2020, 'ProductNo2': 'Laptop', 'ProductNo2_quantity': 10, 'ProductNo2_price': 50000, 'ProductNo2_releaseYear': 2023}\n"
     ]
    }
   ],
   "source": [
    "#type your code here\n",
    "print(inventory)"
   ]
  },
  {
   "cell_type": "markdown",
   "id": "94aa6a3b-2fab-4f57-a3af-0ea343592fff",
   "metadata": {},
   "source": [
    "## Task-7 Check if `ProductNo1_releaseYear` and `ProductNo2_releaseYear` is in the inventory"
   ]
  },
  {
   "cell_type": "code",
   "execution_count": 29,
   "id": "a8cedd94-46d8-4fbc-915e-46ef1eb0c3e1",
   "metadata": {},
   "outputs": [
    {
     "data": {
      "text/plain": [
       "True"
      ]
     },
     "execution_count": 29,
     "metadata": {},
     "output_type": "execute_result"
    }
   ],
   "source": [
    "#Type your code here\n",
    "\"ProductNo1_releaseYear\" in inventory\n",
    "\"ProductNo2_releaseYear\" in inventory"
   ]
  },
  {
   "cell_type": "markdown",
   "id": "f78de8fb-8f9e-4a59-9ece-f3e45474d13d",
   "metadata": {},
   "source": [
    "## Task-8 Delete release year of both the products from the inventory"
   ]
  },
  {
   "cell_type": "code",
   "execution_count": 31,
   "id": "fe2f8f24-9044-477b-870e-38b20d76487b",
   "metadata": {},
   "outputs": [],
   "source": [
    "#Type your code here\n",
    "del(inventory[\"ProductNo1_releaseYear\"])\n",
    "del(inventory[\"ProductNo2_releaseYear\"])"
   ]
  }
 ],
 "metadata": {
  "kernelspec": {
   "display_name": "Python 3 (ipykernel)",
   "language": "python",
   "name": "python3"
  },
  "language_info": {
   "codemirror_mode": {
    "name": "ipython",
    "version": 3
   },
   "file_extension": ".py",
   "mimetype": "text/x-python",
   "name": "python",
   "nbconvert_exporter": "python",
   "pygments_lexer": "ipython3",
   "version": "3.11.6"
  }
 },
 "nbformat": 4,
 "nbformat_minor": 5
}
