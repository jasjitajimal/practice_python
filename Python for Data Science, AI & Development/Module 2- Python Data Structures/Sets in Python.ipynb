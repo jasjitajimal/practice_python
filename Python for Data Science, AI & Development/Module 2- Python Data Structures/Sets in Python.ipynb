{
 "cells": [
  {
   "cell_type": "markdown",
   "id": "6a660405-745c-40a3-af86-10a30a761677",
   "metadata": {},
   "source": [
    "# Sets in Python"
   ]
  },
  {
   "cell_type": "markdown",
   "id": "1612aced-35f2-4ae5-9b5d-ed86d8c7cb3b",
   "metadata": {},
   "source": [
    "<b> 1) Convert the list <code>\\['rap','house','electronic music', 'rap']</code> to a set:"
   ]
  },
  {
   "cell_type": "code",
   "execution_count": 1,
   "id": "dc478a12-b29a-4bba-991d-03e86d241d5f",
   "metadata": {},
   "outputs": [
    {
     "data": {
      "text/plain": [
       "{'electronic music', 'house', 'rap'}"
      ]
     },
     "execution_count": 1,
     "metadata": {},
     "output_type": "execute_result"
    }
   ],
   "source": [
    "# Write your code below and press Shift+Enter to execute\n",
    "set(['rap','house','electronic music','rap'])"
   ]
  },
  {
   "cell_type": "markdown",
   "id": "26758b13-722f-4d9b-9b20-933788c38fea",
   "metadata": {},
   "source": [
    "<b> 2) Consider the list <code>A = \\[1, 2, 2, 1]</code> and set <code>B = set(\\[1, 2, 2, 1])</code>, does <code>sum(A) == sum(B)</code>?"
   ]
  },
  {
   "cell_type": "code",
   "execution_count": 3,
   "id": "66d0e78e-fc16-42f6-85fb-703e9104de44",
   "metadata": {},
   "outputs": [
    {
     "name": "stdout",
     "output_type": "stream",
     "text": [
      "the sum of A is: 6\n",
      "the sum of B is: 3\n"
     ]
    }
   ],
   "source": [
    "# Write your code below and press Shift+Enter to execute\n",
    "A = [1, 2, 2, 1]  \n",
    "B = set([1, 2, 2, 1])\n",
    "print(\"the sum of A is:\", sum(A))\n",
    "print(\"the sum of B is:\", sum(B)) # since duplicates are removed so sum is 3"
   ]
  },
  {
   "cell_type": "markdown",
   "id": "7dd1f704-1d95-467d-8b1c-8b6732463f80",
   "metadata": {},
   "source": [
    "<b> 3) Create a new set album_set3 that is the union of album_set1 and album_set2:"
   ]
  },
  {
   "cell_type": "code",
   "execution_count": 4,
   "id": "631c29db-e67a-4dd2-b316-77395a85b91a",
   "metadata": {},
   "outputs": [
    {
     "data": {
      "text/plain": [
       "{'AC/DC', 'Back in Black', 'The Dark Side of the Moon', 'Thriller'}"
      ]
     },
     "execution_count": 4,
     "metadata": {},
     "output_type": "execute_result"
    }
   ],
   "source": [
    "# Write your code below and press Shift+Enter to execute\n",
    "album_set1 = set([\"Thriller\", 'AC/DC', 'Back in Black'])\n",
    "album_set2 = set([ \"AC/DC\", \"Back in Black\", \"The Dark Side of the Moon\"])\n",
    "album_set3 = album_set1.union(album_set2)\n",
    "album_set3"
   ]
  },
  {
   "cell_type": "markdown",
   "id": "f69db401-9f33-460b-96c1-a41519c9f894",
   "metadata": {},
   "source": [
    "<b> 4) Find out if album_set1 is a subset of album_set3:"
   ]
  },
  {
   "cell_type": "code",
   "execution_count": 5,
   "id": "5bf961a7-450b-40ca-a353-89793e342448",
   "metadata": {},
   "outputs": [
    {
     "data": {
      "text/plain": [
       "True"
      ]
     },
     "execution_count": 5,
     "metadata": {},
     "output_type": "execute_result"
    }
   ],
   "source": [
    "# Write your code below and press Shift+Enter to execute\n",
    "album_set1.issubset(album_set3)"
   ]
  },
  {
   "cell_type": "markdown",
   "id": "63eea241-fe86-430b-abf3-f43d415d8192",
   "metadata": {},
   "source": [
    "<b> 5) Find out if <code>album_set3</code> is a superset of <code>album_set1</code>:"
   ]
  },
  {
   "cell_type": "code",
   "execution_count": 7,
   "id": "e512554b-d9b4-4283-9a2e-bedb91374b72",
   "metadata": {},
   "outputs": [
    {
     "data": {
      "text/plain": [
       "True"
      ]
     },
     "execution_count": 7,
     "metadata": {},
     "output_type": "execute_result"
    }
   ],
   "source": [
    "set(album_set3).issuperset(album_set1)"
   ]
  }
 ],
 "metadata": {
  "kernelspec": {
   "display_name": "Python 3 (ipykernel)",
   "language": "python",
   "name": "python3"
  },
  "language_info": {
   "codemirror_mode": {
    "name": "ipython",
    "version": 3
   },
   "file_extension": ".py",
   "mimetype": "text/x-python",
   "name": "python",
   "nbconvert_exporter": "python",
   "pygments_lexer": "ipython3",
   "version": "3.11.6"
  }
 },
 "nbformat": 4,
 "nbformat_minor": 5
}
