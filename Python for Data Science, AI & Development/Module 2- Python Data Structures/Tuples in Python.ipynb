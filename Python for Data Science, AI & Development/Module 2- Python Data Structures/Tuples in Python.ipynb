{
 "cells": [
  {
   "cell_type": "markdown",
   "id": "b7fcfce5-4daa-4f58-8b58-9b3eb455b547",
   "metadata": {},
   "source": [
    "# Tuples in Python"
   ]
  },
  {
   "cell_type": "code",
   "execution_count": 1,
   "id": "ecb95d36-c1b2-40b7-a7a2-33bfbdef68b5",
   "metadata": {},
   "outputs": [
    {
     "data": {
      "text/plain": [
       "('pop',\n",
       " 'rock',\n",
       " 'soul',\n",
       " 'hard rock',\n",
       " 'soft rock',\n",
       " 'R&B',\n",
       " 'progressive rock',\n",
       " 'disco')"
      ]
     },
     "execution_count": 1,
     "metadata": {},
     "output_type": "execute_result"
    }
   ],
   "source": [
    "# sample tuple\n",
    "\n",
    "genres_tuple = (\"pop\", \"rock\", \"soul\", \"hard rock\", \"soft rock\", \\\n",
    "                \"R&B\", \"progressive rock\", \"disco\") \n",
    "genres_tuple"
   ]
  },
  {
   "cell_type": "markdown",
   "id": "05c42fb3-3c31-41da-acad-4483ed3facbf",
   "metadata": {},
   "source": [
    "<b> 1) Find the length of the tuple, genres_tuple:"
   ]
  },
  {
   "cell_type": "code",
   "execution_count": 2,
   "id": "df26fc13-b7be-4848-a7c8-9dd234842f23",
   "metadata": {},
   "outputs": [
    {
     "data": {
      "text/plain": [
       "8"
      ]
     },
     "execution_count": 2,
     "metadata": {},
     "output_type": "execute_result"
    }
   ],
   "source": [
    "len(genres_tuple)"
   ]
  },
  {
   "cell_type": "markdown",
   "id": "1ee8729a-864b-4ba8-8fb1-ddb4d26eac3f",
   "metadata": {},
   "source": [
    "<b> 2) Access the element, with respect to index 3:"
   ]
  },
  {
   "cell_type": "code",
   "execution_count": 3,
   "id": "c44edcae-ce4c-4834-8a05-bcbe31b47979",
   "metadata": {},
   "outputs": [
    {
     "data": {
      "text/plain": [
       "'hard rock'"
      ]
     },
     "execution_count": 3,
     "metadata": {},
     "output_type": "execute_result"
    }
   ],
   "source": [
    "genres_tuple[3]"
   ]
  },
  {
   "cell_type": "markdown",
   "id": "71014da8-24d7-432c-bdef-548faff2805d",
   "metadata": {},
   "source": [
    "<b> 3) Use slicing to obtain indexes 3, 4 and 5:"
   ]
  },
  {
   "cell_type": "code",
   "execution_count": 5,
   "id": "f57f4268-a957-414c-bb6f-3d94acce82f4",
   "metadata": {},
   "outputs": [
    {
     "data": {
      "text/plain": [
       "('hard rock', 'soft rock', 'R&B')"
      ]
     },
     "execution_count": 5,
     "metadata": {},
     "output_type": "execute_result"
    }
   ],
   "source": [
    "genres_tuple[3:6]"
   ]
  },
  {
   "cell_type": "markdown",
   "id": "efdf1e3b-5b2b-4079-9111-ef5d9264a5d4",
   "metadata": {},
   "source": [
    "<b> 4) Find the first two elements of the tuple <code>genres_tuple</code>:"
   ]
  },
  {
   "cell_type": "code",
   "execution_count": 7,
   "id": "7e2c8500-d8d9-42fa-a91c-6c7e3feeb129",
   "metadata": {},
   "outputs": [
    {
     "data": {
      "text/plain": [
       "('pop', 'rock')"
      ]
     },
     "execution_count": 7,
     "metadata": {},
     "output_type": "execute_result"
    }
   ],
   "source": [
    "genres_tuple[0:2]"
   ]
  },
  {
   "cell_type": "markdown",
   "id": "92c709dd-8e37-43e5-82fc-b40fee620eb4",
   "metadata": {},
   "source": [
    "<b> 5) Find the index of 's' in \"disco\":"
   ]
  },
  {
   "cell_type": "code",
   "execution_count": 8,
   "id": "a268e09e-ad18-4da9-84e2-35a6b75a5eb2",
   "metadata": {},
   "outputs": [
    {
     "data": {
      "text/plain": [
       "2"
      ]
     },
     "execution_count": 8,
     "metadata": {},
     "output_type": "execute_result"
    }
   ],
   "source": [
    "\"disco\".find('s')"
   ]
  },
  {
   "cell_type": "markdown",
   "id": "4e080d29-fbee-40c6-94a0-cc07d9607bd1",
   "metadata": {},
   "source": [
    "<b> 6) Generate a sorted List from the Tuple <code>C_tuple=(-5, 1, -3)</code>:"
   ]
  },
  {
   "cell_type": "code",
   "execution_count": 10,
   "id": "11a436a7-234e-4e17-b92e-f6a45d45fc3b",
   "metadata": {},
   "outputs": [
    {
     "data": {
      "text/plain": [
       "[-5, -3, 1]"
      ]
     },
     "execution_count": 10,
     "metadata": {},
     "output_type": "execute_result"
    }
   ],
   "source": [
    "C_tuple = (-5, 1, -3)\n",
    "C_tuple2 = sorted(C_tuple)\n",
    "C_tuple2"
   ]
  }
 ],
 "metadata": {
  "kernelspec": {
   "display_name": "Python 3 (ipykernel)",
   "language": "python",
   "name": "python3"
  },
  "language_info": {
   "codemirror_mode": {
    "name": "ipython",
    "version": 3
   },
   "file_extension": ".py",
   "mimetype": "text/x-python",
   "name": "python",
   "nbconvert_exporter": "python",
   "pygments_lexer": "ipython3",
   "version": "3.11.6"
  }
 },
 "nbformat": 4,
 "nbformat_minor": 5
}
