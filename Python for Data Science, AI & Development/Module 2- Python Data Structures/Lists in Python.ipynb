{
 "cells": [
  {
   "cell_type": "markdown",
   "id": "d4e0846f-4f2e-48cc-b6b7-067feb79392d",
   "metadata": {},
   "source": [
    "# Lists in Python"
   ]
  },
  {
   "cell_type": "markdown",
   "id": "1a565929-622d-4a04-9ace-011281631011",
   "metadata": {},
   "source": [
    "<b> 1) Create a list <code>a_list</code>, with the following elements <code>1</code>, <code>hello</code>, <code>\\[1,2,3]</code> and <code>True</code>."
   ]
  },
  {
   "cell_type": "code",
   "execution_count": 1,
   "id": "09d5638d-501d-44ca-9573-35a27b5e3f64",
   "metadata": {},
   "outputs": [
    {
     "data": {
      "text/plain": [
       "[1, 'hello', [1, 2, 3], True]"
      ]
     },
     "execution_count": 1,
     "metadata": {},
     "output_type": "execute_result"
    }
   ],
   "source": [
    "a_list = [1, 'hello', [1, 2, 3] , True]\n",
    "a_list"
   ]
  },
  {
   "cell_type": "markdown",
   "id": "4c9fe8a4-2dd2-40c6-bfe2-243c292a6600",
   "metadata": {},
   "source": [
    "<b> 2) Find the value stored at index 1 of <code>a_list</code>."
   ]
  },
  {
   "cell_type": "code",
   "execution_count": 2,
   "id": "68132625-391a-4c93-a8e2-cd7e76c278bd",
   "metadata": {},
   "outputs": [
    {
     "data": {
      "text/plain": [
       "'hello'"
      ]
     },
     "execution_count": 2,
     "metadata": {},
     "output_type": "execute_result"
    }
   ],
   "source": [
    "a_list[1]"
   ]
  },
  {
   "cell_type": "markdown",
   "id": "bdd6b35c-273f-40be-9d68-9b12d630fbd3",
   "metadata": {},
   "source": [
    "<b> 3) Retrieve the elements stored at index 1, 2 and 3 of <code>a_list</code>."
   ]
  },
  {
   "cell_type": "code",
   "execution_count": 4,
   "id": "d3c9a24b-1c93-45c7-ae06-aacb52a7aff8",
   "metadata": {},
   "outputs": [
    {
     "data": {
      "text/plain": [
       "['hello', [1, 2, 3], True]"
      ]
     },
     "execution_count": 4,
     "metadata": {},
     "output_type": "execute_result"
    }
   ],
   "source": [
    "a_list[1:4]"
   ]
  },
  {
   "cell_type": "markdown",
   "id": "7658253e-8a94-43de-adc4-12632618aadd",
   "metadata": {},
   "source": [
    "<b> 4) Concatenate the following lists A = [1, 'a'] and B = [2, 1, 'd']:"
   ]
  },
  {
   "cell_type": "code",
   "execution_count": 5,
   "id": "18174f74-f826-4ec6-b8bf-98e3fd08b4ce",
   "metadata": {},
   "outputs": [
    {
     "data": {
      "text/plain": [
       "[1, 'a', 2, 1, 'd']"
      ]
     },
     "execution_count": 5,
     "metadata": {},
     "output_type": "execute_result"
    }
   ],
   "source": [
    "A = [1, 'a'] \n",
    "B = [2, 1, 'd']\n",
    "A + B"
   ]
  },
  {
   "cell_type": "markdown",
   "id": "3914c62e-a0e5-4e4f-beba-b4583ecc1b1c",
   "metadata": {},
   "source": [
    "## Scenario : Shopping list "
   ]
  },
  {
   "cell_type": "markdown",
   "id": "6cfad020-32bf-4937-bac1-84c0c8e19b5f",
   "metadata": {},
   "source": [
    "### Task-1  Create an empty list for storing the items to buy in Shopping list."
   ]
  },
  {
   "cell_type": "code",
   "execution_count": 7,
   "id": "d4db78d0-b3c6-4918-9cbd-b6a44d18866c",
   "metadata": {},
   "outputs": [],
   "source": [
    "#Type your code here\n",
    "Shopping_list=[]"
   ]
  },
  {
   "cell_type": "markdown",
   "id": "a25bf906-93b2-4a64-8060-5fde4effcff4",
   "metadata": {},
   "source": [
    "### Task-2 Now store the number of items to the shopping_list\n",
    "* Watch\n",
    "* Laptop\n",
    "* Shoes\n",
    "* Pen\n",
    "* Clothes"
   ]
  },
  {
   "cell_type": "code",
   "execution_count": 9,
   "id": "056685c2-e464-43d4-b7d7-1acb4520a08c",
   "metadata": {},
   "outputs": [],
   "source": [
    "#Type your code here\n",
    "Shopping_list=[\"Watch\",\"Laptop\",\"Shoes\",\"Pen\",\"Clothes\"]"
   ]
  },
  {
   "cell_type": "markdown",
   "id": "48a893d0-7bf7-4958-b781-148ddedbe79d",
   "metadata": {},
   "source": [
    "### Task-3 Add a new item to the shopping_list\n",
    "Seems like one item \"Football\" is missed. Add it in the shopping list."
   ]
  },
  {
   "cell_type": "code",
   "execution_count": 10,
   "id": "2328cb0b-a156-47e9-bbd3-c85f594ca2a4",
   "metadata": {},
   "outputs": [],
   "source": [
    "#Type your code here\n",
    "Shopping_list.append(\"Football\")"
   ]
  },
  {
   "cell_type": "markdown",
   "id": "e4ad0ecc-e020-4015-8312-0897ef137f54",
   "metadata": {},
   "source": [
    "### Task-4 Print First item from the shopping_list\n",
    "Let's check the first item that we need to buy."
   ]
  },
  {
   "cell_type": "code",
   "execution_count": 11,
   "id": "31d25fb5-1bb5-4e3a-8c2c-572fb308b54b",
   "metadata": {},
   "outputs": [
    {
     "name": "stdout",
     "output_type": "stream",
     "text": [
      "Watch\n"
     ]
    }
   ],
   "source": [
    "#Type your code here\n",
    "print(Shopping_list[0])"
   ]
  },
  {
   "cell_type": "markdown",
   "id": "46851d2a-760f-4a97-8176-fb67bf52af9b",
   "metadata": {},
   "source": [
    "### Task-5 Print Last item from the shopping_list\n",
    "Let's check the last time that we need to buy."
   ]
  },
  {
   "cell_type": "code",
   "execution_count": 12,
   "id": "09592317-f775-4179-aefb-f1027a284e90",
   "metadata": {},
   "outputs": [
    {
     "name": "stdout",
     "output_type": "stream",
     "text": [
      "Football\n"
     ]
    }
   ],
   "source": [
    "#Type your code here\n",
    "print(Shopping_list[-1])"
   ]
  },
  {
   "cell_type": "markdown",
   "id": "efa16d18-a6d2-4a99-a5a7-fb76104e5632",
   "metadata": {},
   "source": [
    "### Task-6 Print the item that are important to buy from the Shopping List (\"Laptop\" and \"shoes\")"
   ]
  },
  {
   "cell_type": "code",
   "execution_count": 13,
   "id": "cc277667-7e54-49b0-965b-142f1d62573b",
   "metadata": {},
   "outputs": [
    {
     "name": "stdout",
     "output_type": "stream",
     "text": [
      "['Laptop', 'Shoes']\n"
     ]
    }
   ],
   "source": [
    "#Type your code here\n",
    "print(Shopping_list[1:3])"
   ]
  },
  {
   "cell_type": "markdown",
   "id": "efc4ad93-3ca0-4cd4-b57a-d57f3c3459da",
   "metadata": {},
   "source": [
    "### Task-7 Change the item from the shopping_list \n",
    "Instead of <u>\"Pen\"</u> I want to buy <u>\"Notebook\"</u>\n",
    "let's change the item stored in the list."
   ]
  },
  {
   "cell_type": "code",
   "execution_count": 14,
   "id": "c35b1457-a756-45a8-9067-2b5c01e8806d",
   "metadata": {},
   "outputs": [],
   "source": [
    "#Type your code here\n",
    "Shopping_list[3] = \"Notebook\""
   ]
  },
  {
   "cell_type": "markdown",
   "id": "ea079dfe-5bcb-4902-b7c2-4b5bc500fe2f",
   "metadata": {},
   "source": [
    "### Task-8 Delete the item from the shopping_list that is not required\n",
    "Let's delete items that are unimportant, such as; I don't want to buy <u>Clothes</u>, let's delete it."
   ]
  },
  {
   "cell_type": "code",
   "execution_count": 15,
   "id": "c14ccf33-4d00-4e3e-a878-cfd534fe2c44",
   "metadata": {},
   "outputs": [],
   "source": [
    "#Type your code here\n",
    "del (Shopping_list[4])"
   ]
  },
  {
   "cell_type": "markdown",
   "id": "3e60263e-1fd0-42dc-9f81-331b0bf8b44f",
   "metadata": {},
   "source": [
    "### Task-9 Print the shopping list\n",
    "We are ready with our shopping list."
   ]
  },
  {
   "cell_type": "code",
   "execution_count": 17,
   "id": "fca8e8f5-4449-40fa-9c7d-b381ffc6fbf4",
   "metadata": {},
   "outputs": [
    {
     "name": "stdout",
     "output_type": "stream",
     "text": [
      "['Watch', 'Laptop', 'Shoes', 'Notebook', 'Football']\n"
     ]
    }
   ],
   "source": [
    "# Type your code here\n",
    "print(Shopping_list)"
   ]
  }
 ],
 "metadata": {
  "kernelspec": {
   "display_name": "Python 3 (ipykernel)",
   "language": "python",
   "name": "python3"
  },
  "language_info": {
   "codemirror_mode": {
    "name": "ipython",
    "version": 3
   },
   "file_extension": ".py",
   "mimetype": "text/x-python",
   "name": "python",
   "nbconvert_exporter": "python",
   "pygments_lexer": "ipython3",
   "version": "3.11.6"
  }
 },
 "nbformat": 4,
 "nbformat_minor": 5
}
