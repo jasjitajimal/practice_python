{
 "cells": [
  {
   "cell_type": "markdown",
   "id": "c67cfb9a-3cfd-4473-9cfd-36e424ec2aa2",
   "metadata": {},
   "source": [
    "# 2D Numpy in Python"
   ]
  },
  {
   "cell_type": "code",
   "execution_count": 1,
   "id": "45cac77b-4ed8-4ab0-bc89-ebd5e7e3f730",
   "metadata": {},
   "outputs": [],
   "source": [
    "# Import the libraries\n",
    "\n",
    "import numpy as np"
   ]
  },
  {
   "cell_type": "markdown",
   "id": "e2228757-16ad-48ca-a07b-d4f3b0c68237",
   "metadata": {},
   "source": [
    "<b>1) Consider the following list <code>a</code>, convert it to Numpy Array. "
   ]
  },
  {
   "cell_type": "code",
   "execution_count": 2,
   "id": "217b140f-23f0-4e38-b678-b555330ee1b0",
   "metadata": {},
   "outputs": [
    {
     "data": {
      "text/plain": [
       "array([[ 1,  2,  3,  4],\n",
       "       [ 5,  6,  7,  8],\n",
       "       [ 9, 10, 11, 12]])"
      ]
     },
     "execution_count": 2,
     "metadata": {},
     "output_type": "execute_result"
    }
   ],
   "source": [
    "# Write your code below and press Shift+Enter to execute\n",
    "\n",
    "a = [[1, 2, 3, 4], [5, 6, 7, 8], [9, 10, 11, 12]]\n",
    "A = np.array(a)\n",
    "A"
   ]
  },
  {
   "cell_type": "markdown",
   "id": "404e37b4-b645-4087-9fb0-90f1feba9fbd",
   "metadata": {},
   "source": [
    "<b> 2) Calculate the numpy array size."
   ]
  },
  {
   "cell_type": "code",
   "execution_count": 3,
   "id": "47479f07-1f28-477b-b7b9-6685d0bf7293",
   "metadata": {},
   "outputs": [
    {
     "data": {
      "text/plain": [
       "12"
      ]
     },
     "execution_count": 3,
     "metadata": {},
     "output_type": "execute_result"
    }
   ],
   "source": [
    "A.size"
   ]
  },
  {
   "cell_type": "markdown",
   "id": "04e9aaa5-4519-4062-b69c-0a46bf914617",
   "metadata": {},
   "source": [
    "<b> 3) Access the element on the first row and first and second columns."
   ]
  },
  {
   "cell_type": "code",
   "execution_count": 4,
   "id": "bf139edb-de29-4b46-9c64-a29aab5eee59",
   "metadata": {},
   "outputs": [
    {
     "data": {
      "text/plain": [
       "array([1, 2])"
      ]
     },
     "execution_count": 4,
     "metadata": {},
     "output_type": "execute_result"
    }
   ],
   "source": [
    "# Write your code below and press Shift+Enter to execute\n",
    "A[0][0:2]"
   ]
  },
  {
   "cell_type": "markdown",
   "id": "c68ca356-7e7e-4540-8bfb-0db43252cce3",
   "metadata": {},
   "source": [
    "<b> 4) Perform matrix multiplication with the numpy arrays <code>A</code> and <code>B</code>.\n"
   ]
  },
  {
   "cell_type": "code",
   "execution_count": 5,
   "id": "2731c19a-316b-4909-8485-7d4ee7e1d900",
   "metadata": {},
   "outputs": [
    {
     "data": {
      "text/plain": [
       "array([[ 1,  4],\n",
       "       [ 5, 12],\n",
       "       [ 9, 20]])"
      ]
     },
     "execution_count": 5,
     "metadata": {},
     "output_type": "execute_result"
    }
   ],
   "source": [
    "# Write your code below and press Shift+Enter to execute\n",
    "\n",
    "B = np.array([[0, 1], [1, 0], [1, 1], [-1, 0]])\n",
    "\n",
    "X = np.dot(A,B)\n",
    "X"
   ]
  }
 ],
 "metadata": {
  "kernelspec": {
   "display_name": "Python 3 (ipykernel)",
   "language": "python",
   "name": "python3"
  },
  "language_info": {
   "codemirror_mode": {
    "name": "ipython",
    "version": 3
   },
   "file_extension": ".py",
   "mimetype": "text/x-python",
   "name": "python",
   "nbconvert_exporter": "python",
   "pygments_lexer": "ipython3",
   "version": "3.11.6"
  }
 },
 "nbformat": 4,
 "nbformat_minor": 5
}
