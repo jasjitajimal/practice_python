{
 "cells": [
  {
   "cell_type": "markdown",
   "id": "53aece39-b526-445f-aebc-d6c981d7caea",
   "metadata": {},
   "source": [
    "# Working with Types in Python (Examples)"
   ]
  },
  {
   "cell_type": "markdown",
   "id": "3e130b93-6c35-4ab3-b1ef-627086eb0a6a",
   "metadata": {},
   "source": [
    "<B> 1) Use the type() function to check the object type of 12.0."
   ]
  },
  {
   "cell_type": "code",
   "execution_count": 1,
   "id": "56e7a85b-1ba9-4fee-86a4-af2edef3fb11",
   "metadata": {},
   "outputs": [
    {
     "data": {
      "text/plain": [
       "float"
      ]
     },
     "execution_count": 1,
     "metadata": {},
     "output_type": "execute_result"
    }
   ],
   "source": [
    "type(12.0)"
   ]
  },
  {
   "cell_type": "markdown",
   "id": "dba4863a-e3ee-4693-8166-bd6a76c96176",
   "metadata": {},
   "source": [
    " <b> \n",
    "2) What is the data type of the result of: 6 / 2?"
   ]
  },
  {
   "cell_type": "code",
   "execution_count": 2,
   "id": "f791823d-4cee-4927-9755-56be4644f8b3",
   "metadata": {},
   "outputs": [
    {
     "data": {
      "text/plain": [
       "float"
      ]
     },
     "execution_count": 2,
     "metadata": {},
     "output_type": "execute_result"
    }
   ],
   "source": [
    "type(6/2)"
   ]
  },
  {
   "cell_type": "markdown",
   "id": "1259f7eb-8ec4-4706-a830-d75ce8b91b77",
   "metadata": {},
   "source": [
    "<b> 3) What is the type of the result of: 6 // 2? (Note the double slash //.)"
   ]
  },
  {
   "cell_type": "code",
   "execution_count": 3,
   "id": "8b318604-cc48-4b10-8ad4-72917f6ea1e5",
   "metadata": {},
   "outputs": [
    {
     "data": {
      "text/plain": [
       "int"
      ]
     },
     "execution_count": 3,
     "metadata": {},
     "output_type": "execute_result"
    }
   ],
   "source": [
    "type(6//2) # as the double slashes stand for integer division "
   ]
  },
  {
   "cell_type": "code",
   "execution_count": 5,
   "id": "6a0c9195-6672-439c-a3bd-48ba4f32ade5",
   "metadata": {},
   "outputs": [
    {
     "name": "stdout",
     "output_type": "stream",
     "text": [
      "1\n"
     ]
    }
   ],
   "source": [
    "x = 6//4\n",
    "print(x)\n"
   ]
  },
  {
   "cell_type": "markdown",
   "id": "86f92395-22b7-4726-9a84-03f72fecf3fd",
   "metadata": {},
   "source": [
    "<b> 3) What is the type of the result of: \"hello\" == \"world\""
   ]
  },
  {
   "cell_type": "code",
   "execution_count": 6,
   "id": "a07ab3fb-3424-4555-b080-8fe82145b690",
   "metadata": {},
   "outputs": [
    {
     "data": {
      "text/plain": [
       "bool"
      ]
     },
     "execution_count": 6,
     "metadata": {},
     "output_type": "execute_result"
    }
   ],
   "source": [
    "type(\"hello\" == \"world\")"
   ]
  },
  {
   "cell_type": "code",
   "execution_count": 7,
   "id": "93fadf7a-307c-40ef-8470-d73cbacdb723",
   "metadata": {},
   "outputs": [
    {
     "name": "stdout",
     "output_type": "stream",
     "text": [
      "False\n"
     ]
    }
   ],
   "source": [
    "x = \"hello\" == \"world\"\n",
    "print(x)"
   ]
  },
  {
   "cell_type": "markdown",
   "id": "02277299-389c-4394-b3f2-405b466ccb4a",
   "metadata": {},
   "source": [
    "<b> 4) Write the code to convert the following number representing employeeid \"1001\" to an integer"
   ]
  },
  {
   "cell_type": "code",
   "execution_count": 8,
   "id": "e77f01a2-13f5-4d31-a63b-5621df7e9a72",
   "metadata": {},
   "outputs": [
    {
     "data": {
      "text/plain": [
       "1001"
      ]
     },
     "execution_count": 8,
     "metadata": {},
     "output_type": "execute_result"
    }
   ],
   "source": [
    "int(\"1001\")"
   ]
  },
  {
   "cell_type": "markdown",
   "id": "2ef15123-a4d9-4924-b3ed-b2cb9a16cde0",
   "metadata": {},
   "source": [
    "<B> 5) Write the code to convert this phone number 123-456-7890 to a string"
   ]
  },
  {
   "cell_type": "code",
   "execution_count": 9,
   "id": "1e061762-2e0d-441a-9c10-a0414a631a30",
   "metadata": {},
   "outputs": [
    {
     "data": {
      "text/plain": [
       "'123-456-7890'"
      ]
     },
     "execution_count": 9,
     "metadata": {},
     "output_type": "execute_result"
    }
   ],
   "source": [
    "str(\"123-456-7890\")"
   ]
  }
 ],
 "metadata": {
  "kernelspec": {
   "display_name": "Python 3 (ipykernel)",
   "language": "python",
   "name": "python3"
  },
  "language_info": {
   "codemirror_mode": {
    "name": "ipython",
    "version": 3
   },
   "file_extension": ".py",
   "mimetype": "text/x-python",
   "name": "python",
   "nbconvert_exporter": "python",
   "pygments_lexer": "ipython3",
   "version": "3.11.6"
  }
 },
 "nbformat": 4,
 "nbformat_minor": 5
}
