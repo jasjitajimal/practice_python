{
 "cells": [
  {
   "cell_type": "markdown",
   "id": "654a2e0a-d798-426f-8ce5-ba6dcb354a69",
   "metadata": {},
   "source": [
    "## Exercise: Expressions in Python"
   ]
  },
  {
   "cell_type": "markdown",
   "id": "505232ef-a607-4e34-a3ef-f0e8b2fb2393",
   "metadata": {},
   "source": [
    "<b> 1) Write an expression to add 30 and 20 and subtract 40"
   ]
  },
  {
   "cell_type": "code",
   "execution_count": 1,
   "id": "896ec4d7-4b78-4ea3-b852-227ec3b18a03",
   "metadata": {},
   "outputs": [
    {
     "data": {
      "text/plain": [
       "10"
      ]
     },
     "execution_count": 1,
     "metadata": {},
     "output_type": "execute_result"
    }
   ],
   "source": [
    "30+20-40"
   ]
  },
  {
   "cell_type": "markdown",
   "id": "3383cf5f-e5b2-4dca-bc18-3ff51b994f92",
   "metadata": {},
   "source": [
    "<b> 2) Write an expression to subtract 5 from 55 and divide the result by 10"
   ]
  },
  {
   "cell_type": "code",
   "execution_count": 2,
   "id": "e7b1d0fe-4470-4c89-94d1-4dd4a71c3df4",
   "metadata": {},
   "outputs": [
    {
     "data": {
      "text/plain": [
       "5.0"
      ]
     },
     "execution_count": 2,
     "metadata": {},
     "output_type": "execute_result"
    }
   ],
   "source": [
    "(55-5)/10"
   ]
  },
  {
   "cell_type": "markdown",
   "id": "be132f9e-940d-49f7-9de9-e7c53b00a098",
   "metadata": {},
   "source": [
    "<b> 3) Write an expression to multiply 6 with 10 and divide the result by 12"
   ]
  },
  {
   "cell_type": "code",
   "execution_count": 3,
   "id": "f0c31e9d-105b-46eb-b8b3-3d365d4644e8",
   "metadata": {},
   "outputs": [
    {
     "data": {
      "text/plain": [
       "5.0"
      ]
     },
     "execution_count": 3,
     "metadata": {},
     "output_type": "execute_result"
    }
   ],
   "source": [
    "(6*10)/12"
   ]
  },
  {
   "cell_type": "markdown",
   "id": "fa69427c-f9b6-4c0f-81ae-e58d8b8dd2c7",
   "metadata": {},
   "source": [
    "## Exercise: Variables in Python"
   ]
  },
  {
   "cell_type": "markdown",
   "id": "0c4f5cdf-d2d9-4ddb-9952-89c05d0a160a",
   "metadata": {},
   "source": [
    "<b> 1) What is the value of x where x = 3 + 2 * 2?"
   ]
  },
  {
   "cell_type": "code",
   "execution_count": 4,
   "id": "0c9cdef4-1a02-4732-b827-18cc16d13905",
   "metadata": {},
   "outputs": [
    {
     "data": {
      "text/plain": [
       "7"
      ]
     },
     "execution_count": 4,
     "metadata": {},
     "output_type": "execute_result"
    }
   ],
   "source": [
    "x = 3 + 2 * 2\n",
    "x"
   ]
  },
  {
   "cell_type": "markdown",
   "id": "0d3ae742-4f74-41cc-be25-bde82da0a398",
   "metadata": {},
   "source": [
    "<b> 2) What is the value of y where y = (3 + 2) * 2?"
   ]
  },
  {
   "cell_type": "code",
   "execution_count": 5,
   "id": "ec89f6e4-3cf9-440f-9b1d-3db4213f16b2",
   "metadata": {},
   "outputs": [
    {
     "data": {
      "text/plain": [
       "10"
      ]
     },
     "execution_count": 5,
     "metadata": {},
     "output_type": "execute_result"
    }
   ],
   "source": [
    "y = (3 + 2) * 2\n",
    "y"
   ]
  },
  {
   "cell_type": "markdown",
   "id": "07fa8b1b-da55-4f45-91c7-471a5ea128c5",
   "metadata": {},
   "source": [
    "<b> 3) What is the value of z where z = x + y?"
   ]
  },
  {
   "cell_type": "code",
   "execution_count": 6,
   "id": "3a6c919a-9fb9-48ac-9fa3-9ec7a3b99abb",
   "metadata": {},
   "outputs": [
    {
     "data": {
      "text/plain": [
       "17"
      ]
     },
     "execution_count": 6,
     "metadata": {},
     "output_type": "execute_result"
    }
   ],
   "source": [
    "z = x+y \n",
    "z"
   ]
  }
 ],
 "metadata": {
  "kernelspec": {
   "display_name": "Python 3 (ipykernel)",
   "language": "python",
   "name": "python3"
  },
  "language_info": {
   "codemirror_mode": {
    "name": "ipython",
    "version": 3
   },
   "file_extension": ".py",
   "mimetype": "text/x-python",
   "name": "python",
   "nbconvert_exporter": "python",
   "pygments_lexer": "ipython3",
   "version": "3.11.6"
  }
 },
 "nbformat": 4,
 "nbformat_minor": 5
}
