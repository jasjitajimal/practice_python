{
 "cells": [
  {
   "cell_type": "markdown",
   "id": "d31f501c-5685-4a83-ae65-56a5dcebd368",
   "metadata": {},
   "source": [
    "# First Python Program:\n",
    "\n",
    "## Objectives\n",
    "\n",
    "After completing this lab you will be able to:\n",
    "* Write your basic python code"
   ]
  },
  {
   "cell_type": "markdown",
   "id": "ad20d5f8-ff93-4f9d-9859-d577b4d97154",
   "metadata": {},
   "source": [
    "## Say 'Hello' to the world in Python"
   ]
  },
  {
   "cell_type": "code",
   "execution_count": 2,
   "id": "5b8e3631-5282-4502-9d92-4f145a4f4acb",
   "metadata": {},
   "outputs": [
    {
     "name": "stdout",
     "output_type": "stream",
     "text": [
      "Hello, Python!\n"
     ]
    }
   ],
   "source": [
    "# Try your first Python output\n",
    "\n",
    "print('Hello, Python!')"
   ]
  },
  {
   "cell_type": "markdown",
   "id": "9c2ac1fe-7dc6-40b2-952b-edd00cf46ca7",
   "metadata": {},
   "source": [
    "<hr/>\n",
    "<div class=\"alert alert-success alertsuccess\" style=\"margin-top: 20px\">\n",
    "    [Tip:] <code>print()</code> is a function. You passed the string <code>'Hello, Python!'</code> as an argument to instruct Python on what to print.\n",
    "</div>\n",
    "<hr/>"
   ]
  },
  {
   "cell_type": "code",
   "execution_count": 6,
   "id": "810a3332-10ff-4c7d-be20-fbd4d9b664d4",
   "metadata": {},
   "outputs": [
    {
     "name": "stdout",
     "output_type": "stream",
     "text": [
      "3.11.6 (tags/v3.11.6:8b6ee5b, Oct  2 2023, 14:57:12) [MSC v.1935 64 bit (AMD64)]\n"
     ]
    }
   ],
   "source": [
    "# Check the Python Version\n",
    "\n",
    "import sys\n",
    "print(sys.version)"
   ]
  },
  {
   "cell_type": "markdown",
   "id": "3b83240a-5ead-4906-908a-6e6b0c644388",
   "metadata": {},
   "source": [
    "<hr/>\n",
    "<div class=\"alert alert-success alertsuccess\" style=\"margin-top: 20px\">\n",
    "    [Tip:] <code>sys</code> is a built-in module that contains many system-specific parameters and functions, including the Python version in use. Before using it, we must explictly <code>import</code> it.\n",
    "</div>\n",
    "<hr/>\n"
   ]
  },
  {
   "cell_type": "markdown",
   "id": "907e4a40-8360-4a46-b563-680c4e7e3483",
   "metadata": {},
   "source": [
    "### Comments Examples:"
   ]
  },
  {
   "cell_type": "markdown",
   "id": "fb81227f-3ea8-45c2-8803-98afe979c439",
   "metadata": {},
   "source": [
    " To write comments in Python, use the number symbol <code>#</code> before writing your comment. When you run your code, Python will ignore everything past the <code>#</code> on a given line."
   ]
  },
  {
   "cell_type": "code",
   "execution_count": 9,
   "id": "0c367c7d-7d8e-462f-8cc8-f3a3d86ff083",
   "metadata": {},
   "outputs": [
    {
     "name": "stdout",
     "output_type": "stream",
     "text": [
      "Hello, Python!\n"
     ]
    }
   ],
   "source": [
    "# Practice on writing comments\n",
    "\n",
    "print('Hello, Python!') # This line prints a string\n",
    "# print(\"Hi ) (Commented out this second line of code using #)"
   ]
  },
  {
   "cell_type": "markdown",
   "id": "3a59c82c-9397-4a59-bb7d-f2e40ba1936f",
   "metadata": {},
   "source": [
    "### Does Python know about your error before it runs your code?"
   ]
  },
  {
   "cell_type": "markdown",
   "id": "72063322-6dea-4db7-8ded-717af6062447",
   "metadata": {},
   "source": [
    "Python is what is called an <em>interpreted language</em>. Compiled languages examine your entire program at compile time, and are able to warn you about a whole class of errors prior to execution. In contrast, Python interprets your script line by line as it executes it. Python will stop executing the entire program when it encounters an error (unless the error is expected and handled by the programmer, a more advanced subject that we'll cover later on in this course)."
   ]
  },
  {
   "cell_type": "code",
   "execution_count": 10,
   "id": "431383ab-1c64-42f3-8c6b-b8b5406909d3",
   "metadata": {},
   "outputs": [
    {
     "name": "stdout",
     "output_type": "stream",
     "text": [
      "This will be printed\n"
     ]
    },
    {
     "ename": "NameError",
     "evalue": "name 'frint' is not defined",
     "output_type": "error",
     "traceback": [
      "\u001b[1;31m---------------------------------------------------------------------------\u001b[0m",
      "\u001b[1;31mNameError\u001b[0m                                 Traceback (most recent call last)",
      "Cell \u001b[1;32mIn[10], line 4\u001b[0m\n\u001b[0;32m      1\u001b[0m \u001b[38;5;66;03m# Print string and error to see the running order\u001b[39;00m\n\u001b[0;32m      3\u001b[0m \u001b[38;5;28mprint\u001b[39m(\u001b[38;5;124m\"\u001b[39m\u001b[38;5;124mThis will be printed\u001b[39m\u001b[38;5;124m\"\u001b[39m)\n\u001b[1;32m----> 4\u001b[0m \u001b[43mfrint\u001b[49m(\u001b[38;5;124m\"\u001b[39m\u001b[38;5;124mThis will cause an error\u001b[39m\u001b[38;5;124m\"\u001b[39m)\n\u001b[0;32m      5\u001b[0m \u001b[38;5;28mprint\u001b[39m(\u001b[38;5;124m\"\u001b[39m\u001b[38;5;124mThis will NOT be printed\u001b[39m\u001b[38;5;124m\"\u001b[39m)\n",
      "\u001b[1;31mNameError\u001b[0m: name 'frint' is not defined"
     ]
    }
   ],
   "source": [
    "# Print string and error to see the running order\n",
    "\n",
    "print(\"This will be printed\")\n",
    "frint(\"This will cause an error\")\n",
    "print(\"This will NOT be printed\")"
   ]
  },
  {
   "cell_type": "markdown",
   "id": "a858e6d3-2bab-4e90-9997-9e4bcbafd02d",
   "metadata": {},
   "source": [
    "### Exercise: "
   ]
  },
  {
   "cell_type": "markdown",
   "id": "d30d21c9-2775-4ac3-9d6c-f9548039ac90",
   "metadata": {},
   "source": [
    "<B> 1) Use print() function to print out the phrase: Hello, world!"
   ]
  },
  {
   "cell_type": "code",
   "execution_count": 11,
   "id": "07211cd8-0246-4bd0-84b3-d79050556879",
   "metadata": {},
   "outputs": [
    {
     "name": "stdout",
     "output_type": "stream",
     "text": [
      "Hello, world!\n"
     ]
    }
   ],
   "source": [
    "print(\"Hello, world!\")"
   ]
  },
  {
   "cell_type": "markdown",
   "id": "c49ece98-6daa-4de8-893e-afa08cd03bb2",
   "metadata": {},
   "source": [
    "<b> 2) Brint out the phrase: Hello, world! and comment it with the phrase Print the traditional hello world all in one line of code."
   ]
  },
  {
   "cell_type": "code",
   "execution_count": 12,
   "id": "4bc34122-008b-4fb5-97b0-1b8806128659",
   "metadata": {},
   "outputs": [
    {
     "name": "stdout",
     "output_type": "stream",
     "text": [
      "Hello, world!\n"
     ]
    }
   ],
   "source": [
    "print(\"Hello, world!\") # Print the traditional hello world"
   ]
  },
  {
   "cell_type": "markdown",
   "id": "2a0a1ce2-76c5-4bc0-97a3-53ccd5c70003",
   "metadata": {},
   "source": [
    "<b> 3) What is the value of z where z = 2 + 15?"
   ]
  },
  {
   "cell_type": "code",
   "execution_count": 13,
   "id": "ed503860-4708-4858-ad2b-e5fda189b297",
   "metadata": {},
   "outputs": [
    {
     "name": "stdout",
     "output_type": "stream",
     "text": [
      "17\n"
     ]
    }
   ],
   "source": [
    "z = 2 + 15\n",
    "print(z)"
   ]
  }
 ],
 "metadata": {
  "kernelspec": {
   "display_name": "Python 3 (ipykernel)",
   "language": "python",
   "name": "python3"
  },
  "language_info": {
   "codemirror_mode": {
    "name": "ipython",
    "version": 3
   },
   "file_extension": ".py",
   "mimetype": "text/x-python",
   "name": "python",
   "nbconvert_exporter": "python",
   "pygments_lexer": "ipython3",
   "version": "3.11.6"
  }
 },
 "nbformat": 4,
 "nbformat_minor": 5
}
