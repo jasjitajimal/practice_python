{
 "cells": [
  {
   "cell_type": "markdown",
   "id": "f98df90f-4c77-47bc-baaf-1de5d25c9439",
   "metadata": {},
   "source": [
    "<h1> HTTP and Requests</h1>"
   ]
  },
  {
   "cell_type": "markdown",
   "id": "c97075c7-accd-4fb6-aa90-a6b0423770fb",
   "metadata": {},
   "source": [
    "<b> 1) Question: Download a file"
   ]
  },
  {
   "cell_type": "markdown",
   "id": "4a522415-b0c7-4d62-a5d4-79df459c195a",
   "metadata": {},
   "source": [
    "Consider the following URL."
   ]
  },
  {
   "cell_type": "markdown",
   "id": "046f8fa8-be76-4b2f-956a-184d98fbf8c2",
   "metadata": {},
   "source": [
    "<code>URL = <https://cf-courses-data.s3.us.cloud-object-storage.appdomain.cloud/IBMDeveloperSkillsNetwork-PY0101EN-SkillsNetwork/labs/Module%205/data/Example1.txt</code>\n"
   ]
  },
  {
   "cell_type": "markdown",
   "id": "78263849-e003-4cdc-88ef-c3febf98918e",
   "metadata": {},
   "source": [
    "Write the commands to download the txt file in the given link."
   ]
  },
  {
   "cell_type": "code",
   "execution_count": 2,
   "id": "ded91545-d8a8-4327-9966-1a15e2433342",
   "metadata": {},
   "outputs": [],
   "source": [
    "import requests"
   ]
  },
  {
   "cell_type": "code",
   "execution_count": 3,
   "id": "3ba178e6-a117-46f3-9663-ed3b18fd92e0",
   "metadata": {},
   "outputs": [],
   "source": [
    "import os \n",
    "from PIL import Image\n",
    "from IPython.display import IFrame"
   ]
  },
  {
   "cell_type": "code",
   "execution_count": 4,
   "id": "9d42f2e8-943b-49f1-96a3-082f1de41a38",
   "metadata": {},
   "outputs": [],
   "source": [
    "url='https://cf-courses-data.s3.us.cloud-object-storage.appdomain.cloud/IBMDeveloperSkillsNetwork-PY0101EN-SkillsNetwork/labs/Module%205/data/Example1.txt'\n",
    "path=os.path.join(os.getcwd(),'example1.txt')\n",
    "r=requests.get(url)\n",
    "with open(path,'wb') as f:\n",
    "    f.write(r.content)"
   ]
  }
 ],
 "metadata": {
  "kernelspec": {
   "display_name": "Python 3 (ipykernel)",
   "language": "python",
   "name": "python3"
  },
  "language_info": {
   "codemirror_mode": {
    "name": "ipython",
    "version": 3
   },
   "file_extension": ".py",
   "mimetype": "text/x-python",
   "name": "python",
   "nbconvert_exporter": "python",
   "pygments_lexer": "ipython3",
   "version": "3.11.6"
  }
 },
 "nbformat": 4,
 "nbformat_minor": 5
}
