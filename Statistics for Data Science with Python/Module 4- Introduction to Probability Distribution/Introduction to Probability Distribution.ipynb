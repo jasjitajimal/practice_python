{
 "cells": [
  {
   "cell_type": "markdown",
   "id": "2fe4dac0-c276-44ac-bbb4-691ca5e3e6ed",
   "metadata": {},
   "source": [
    "# **Introduction to Probability Distribution**\n"
   ]
  },
  {
   "cell_type": "code",
   "execution_count": 3,
   "id": "d1620656-3bc6-4d8a-8c53-848e2aad3590",
   "metadata": {},
   "outputs": [
    {
     "name": "stdout",
     "output_type": "stream",
     "text": [
      "Requirement already satisfied: scipy in c:\\users\\jasji\\.virtualenvs\\practice_python-m8xlm-c9\\lib\\site-packages (1.15.1)\n",
      "Requirement already satisfied: numpy<2.5,>=1.23.5 in c:\\users\\jasji\\.virtualenvs\\practice_python-m8xlm-c9\\lib\\site-packages (from scipy) (2.2.1)\n"
     ]
    }
   ],
   "source": [
    "!pip install scipy"
   ]
  },
  {
   "cell_type": "code",
   "execution_count": 4,
   "id": "65b8804a-e0ad-4f9e-9755-f8628a543425",
   "metadata": {},
   "outputs": [],
   "source": [
    "import numpy as np\n",
    "import pandas as pd\n",
    "import matplotlib.pyplot as plt\n",
    "import scipy.stats\n",
    "from math import sqrt\n"
   ]
  },
  {
   "cell_type": "code",
   "execution_count": 7,
   "id": "d0b3146a-e39e-4464-abd8-434a058d16ae",
   "metadata": {},
   "outputs": [],
   "source": [
    "URL = 'https://cf-courses-data.s3.us.cloud-object-storage.appdomain.cloud/IBMDeveloperSkillsNetwork-ST0151EN-SkillsNetwork/labs/teachingratings.csv'"
   ]
  },
  {
   "cell_type": "code",
   "execution_count": 8,
   "id": "0d33b0ea-2029-4018-9faa-61b11060f860",
   "metadata": {},
   "outputs": [],
   "source": [
    "ratings_df = pd.read_csv(URL)"
   ]
  },
  {
   "cell_type": "markdown",
   "id": "f4a48167-488f-4845-9cbf-b699d1a41860",
   "metadata": {},
   "source": [
    "## Practice Questions\n"
   ]
  },
  {
   "cell_type": "markdown",
   "id": "12ecaf0b-d02c-4cce-9ad1-f75231334a08",
   "metadata": {},
   "source": [
    "### Question 1: Using the teachers' rating dataset, what is the probability of receiving an evaluation score greater than 3.3?\n"
   ]
  },
  {
   "cell_type": "code",
   "execution_count": 9,
   "id": "04d2bd26-e83a-44ed-8d18-c09c31dbc044",
   "metadata": {},
   "outputs": [
    {
     "name": "stdout",
     "output_type": "stream",
     "text": [
      "3.998 0.555\n"
     ]
    }
   ],
   "source": [
    "eval_mean = round(ratings_df['eval'].mean(), 3)\n",
    "eval_sd = round(ratings_df['eval'].std(), 3)\n",
    "print(eval_mean, eval_sd)"
   ]
  },
  {
   "cell_type": "code",
   "execution_count": 10,
   "id": "1a5eb9fe-7411-4758-8da6-863146b31420",
   "metadata": {},
   "outputs": [
    {
     "name": "stdout",
     "output_type": "stream",
     "text": [
      "0.8957422041794154\n"
     ]
    }
   ],
   "source": [
    "## insert code here\n",
    "##calculate the probability less than 3.3\n",
    "prob_less_than = scipy.stats.norm.cdf((3.3 - eval_mean)/eval_sd)\n",
    "##then remove the probability from 1 to get the area to the right of 3.3\n",
    "print(1 - prob_less_than)"
   ]
  },
  {
   "cell_type": "markdown",
   "id": "77f392cc-c04d-4967-a8a4-47daa5859875",
   "metadata": {},
   "source": [
    "### Question 2: Using the teachers' rating dataset, what is the probability of receiving an evaluation score between 2 and 3?\n"
   ]
  },
  {
   "cell_type": "code",
   "execution_count": 12,
   "id": "92cfaf92-10fb-4093-99f5-8922d9b4f797",
   "metadata": {},
   "outputs": [
    {
     "name": "stdout",
     "output_type": "stream",
     "text": [
      "0.00015910859015753364\n",
      "0.03607280250262359\n"
     ]
    },
    {
     "data": {
      "text/plain": [
       "np.float64(3.6)"
      ]
     },
     "execution_count": 12,
     "metadata": {},
     "output_type": "execute_result"
    }
   ],
   "source": [
    "## insert code here\n",
    "## find the probablity of reciving a score of less than 2\n",
    "x1 = 2\n",
    "prob_less_than_2 = scipy.stats.norm.cdf((x1 - eval_mean)/eval_sd)\n",
    "print(prob_less_than_2)\n",
    "\n",
    "x2 = 3\n",
    "## find the probablity of reciving a score of less than 3\n",
    "prob_less_than_3 = scipy.stats.norm.cdf((x2 - eval_mean)/eval_sd)\n",
    "print(prob_less_than_3)\n",
    "\n",
    "## remove both probabilities from each other\n",
    "round((prob_less_than_3 - prob_less_than_2)*100, 1)"
   ]
  },
  {
   "cell_type": "markdown",
   "id": "51b1ccb3-7bc8-458b-b928-36c6412e45d4",
   "metadata": {},
   "source": [
    "### Question 3: To test the hypothesis that sleeping for at least 8 hours makes one smarter, 12 people who have slept for at least 8 hours every day  for the past one year  have their IQ tested.\n",
    "\n",
    "*   Here are the results: 116, 111, 101, 120, 99, 94, 106, 115, 107, 101, 110, 92\n",
    "*   Test using the following hypotheses: H0: μ = 100 or Ha: μ > 100\n"
   ]
  },
  {
   "cell_type": "code",
   "execution_count": 13,
   "id": "ef10ccf6-542e-41ad-ac78-1d9af3ead7d1",
   "metadata": {},
   "outputs": [
    {
     "name": "stdout",
     "output_type": "stream",
     "text": [
      "IQ mean is 106.0, sd is 8.831760866327848, variance is 78.00000000000001\n"
     ]
    },
    {
     "data": {
      "text/plain": [
       "np.float64(0.009)"
      ]
     },
     "execution_count": 13,
     "metadata": {},
     "output_type": "execute_result"
    }
   ],
   "source": [
    "### remember to remove from 1 because we want the value for when IQs are greater than 100\n",
    "iqs = [116, 111, 101, 120, 99, 94, 106, 115, 107, 101, 110, 92]\n",
    "sample_size = len(iqs)\n",
    "degree_freedom = sample_size - 1\n",
    "iq_mean = sum(iqs) / sample_size\n",
    "mean_diff = [(iq - iq_mean) ** 2 for iq in iqs]\n",
    "iq_std = sqrt(sum(mean_diff) / degree_freedom)\n",
    "variance = iq_std ** 2\n",
    "print(f\"IQ mean is {iq_mean}, sd is {iq_std}, variance is {variance}\")\n",
    "round(1-scipy.stats.norm.cdf((iq_mean - 100)/(iq_std/sqrt(12))), 3)"
   ]
  }
 ],
 "metadata": {
  "kernelspec": {
   "display_name": "Python 3 (ipykernel)",
   "language": "python",
   "name": "python3"
  },
  "language_info": {
   "codemirror_mode": {
    "name": "ipython",
    "version": 3
   },
   "file_extension": ".py",
   "mimetype": "text/x-python",
   "name": "python",
   "nbconvert_exporter": "python",
   "pygments_lexer": "ipython3",
   "version": "3.11.6"
  }
 },
 "nbformat": 4,
 "nbformat_minor": 5
}
