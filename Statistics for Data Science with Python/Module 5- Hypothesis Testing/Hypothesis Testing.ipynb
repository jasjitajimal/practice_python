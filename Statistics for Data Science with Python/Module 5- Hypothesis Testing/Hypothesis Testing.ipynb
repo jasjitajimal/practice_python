{
 "cells": [
  {
   "cell_type": "markdown",
   "id": "a2267986-f38e-4849-8ed8-9e322a710894",
   "metadata": {},
   "source": [
    "# **Hypothesis Testing**\n"
   ]
  },
  {
   "cell_type": "markdown",
   "id": "9f3583a0-349b-4936-b90b-de6cc5cbfd64",
   "metadata": {},
   "source": [
    "The goal of hypothesis testing is to answer the question, “Given a sample and an apparent effect, what is the probability of seeing such an effect by chance?” The first step is to quantify the size of the apparent effect by choosing a test statistic (t-test, ANOVA, etc). The next step is to define a null hypothesis, which is a model of the system based on the assumption that the apparent effect is not real. Then compute the p-value, which is the probability of the null hypothesis being true, and finally interpret the result of the p-value, if the value is low, the effect is said to be statistically significant, which means that the null hypothesis may not be accurate.\n"
   ]
  },
  {
   "cell_type": "code",
   "execution_count": 1,
   "id": "09b37ec0-1bf0-46c8-ab1e-0536e22910d5",
   "metadata": {},
   "outputs": [],
   "source": [
    "#install specific version of libraries used in lab\n",
    "#! mamba install pandas==1.3.3\n",
    "#! mamba install numpy=1.21.2\n",
    "#! mamba install scipy=1.7.1-y\n",
    "#!  mamba install seaborn=0.9.0-y\n",
    "#!  mamba install matplotlib=3.4.3-y\n",
    "#!  mamba install statsmodels=0.12.0-y"
   ]
  },
  {
   "cell_type": "code",
   "execution_count": 2,
   "id": "0564215c-6c81-47b8-bdef-8f6c2a9366d2",
   "metadata": {},
   "outputs": [],
   "source": [
    "import numpy as np\n",
    "import pandas as pd\n",
    "import seaborn as sns\n",
    "import matplotlib.pyplot as plt\n",
    "import scipy.stats"
   ]
  },
  {
   "cell_type": "code",
   "execution_count": 3,
   "id": "4cddf994-bdf7-4de5-b2b4-3ac55214ad6f",
   "metadata": {},
   "outputs": [],
   "source": [
    "URL = 'https://cf-courses-data.s3.us.cloud-object-storage.appdomain.cloud/IBMDeveloperSkillsNetwork-ST0151EN-SkillsNetwork/labs/teachingratings.csv'"
   ]
  },
  {
   "cell_type": "code",
   "execution_count": 4,
   "id": "adee7cc6-f170-494e-9df2-139d6b755246",
   "metadata": {},
   "outputs": [],
   "source": [
    "ratings_df = pd.read_csv(URL)"
   ]
  },
  {
   "cell_type": "markdown",
   "id": "b6d4eb41-f4b9-438f-a9ba-8c60d89169e4",
   "metadata": {},
   "source": [
    "## Practice Questions"
   ]
  },
  {
   "cell_type": "markdown",
   "id": "975f40dc-a21f-41b2-b481-23cbc80b776f",
   "metadata": {},
   "source": [
    "### Question 1: Using the teachers rating data set, does tenure affect teaching evaluation scores?\n",
    "\n",
    "*   Use α = 0.05"
   ]
  },
  {
   "cell_type": "code",
   "execution_count": 6,
   "id": "9f248644-4bb0-45a0-9e79-b8d47f48608a",
   "metadata": {},
   "outputs": [
    {
     "data": {
      "text/plain": [
       "TtestResult(statistic=np.float64(-2.8046798258451777), pvalue=np.float64(0.005249471210198793), df=np.float64(461.0))"
      ]
     },
     "execution_count": 6,
     "metadata": {},
     "output_type": "execute_result"
    }
   ],
   "source": [
    "## insert code here\n",
    "scipy.stats.ttest_ind(ratings_df[ratings_df['tenure'] == 'yes']['eval'],\n",
    "\n",
    "                   ratings_df[ratings_df['tenure'] == 'no']['eval'], equal_var = True)"
   ]
  },
  {
   "cell_type": "markdown",
   "id": "e20a1cf6-c3fc-496c-938b-10ffa8620b14",
   "metadata": {},
   "source": [
    "Note: <u> *The p-value is less than 0.05 that means that - we will reject the null hypothesis as there evidence that being tenured affects teaching evaluation scores*\n"
   ]
  },
  {
   "cell_type": "markdown",
   "id": "52d3af33-f041-4ee8-b1f7-6093d799d2f5",
   "metadata": {},
   "source": [
    "### Question 2: Using the teachers rating data set, is there an association between age and tenure?\n",
    "\n",
    "*   Discretize the age into three groups 40 years and youngers, between 40 and 57 years, 57 years and older (This has already been done for you above.)\n",
    "*   What is your conclusion at α = 0.01 and α = 0.05?\n"
   ]
  },
  {
   "cell_type": "code",
   "execution_count": 12,
   "id": "95e9330d-096d-4bae-8162-26c2eb5cfc06",
   "metadata": {},
   "outputs": [],
   "source": [
    "ratings_df.loc[(ratings_df['age'] <= 40), 'age_group'] = '40 years and younger'\n",
    "ratings_df.loc[(ratings_df['age'] > 40)&(ratings_df['age'] < 57), 'age_group'] = 'between 40 and 57 years'\n",
    "ratings_df.loc[(ratings_df['age'] >= 57), 'age_group'] = '57 years and older'"
   ]
  },
  {
   "cell_type": "code",
   "execution_count": 21,
   "id": "6048f53d-7a9c-4fde-8a9c-771ef12d1c08",
   "metadata": {},
   "outputs": [
    {
     "data": {
      "text/html": [
       "<div>\n",
       "<style scoped>\n",
       "    .dataframe tbody tr th:only-of-type {\n",
       "        vertical-align: middle;\n",
       "    }\n",
       "\n",
       "    .dataframe tbody tr th {\n",
       "        vertical-align: top;\n",
       "    }\n",
       "\n",
       "    .dataframe thead th {\n",
       "        text-align: right;\n",
       "    }\n",
       "</style>\n",
       "<table border=\"1\" class=\"dataframe\">\n",
       "  <thead>\n",
       "    <tr style=\"text-align: right;\">\n",
       "      <th>age_group</th>\n",
       "      <th>40 years and younger</th>\n",
       "      <th>57 years and older</th>\n",
       "      <th>between 40 and 57 years</th>\n",
       "    </tr>\n",
       "    <tr>\n",
       "      <th>tenure</th>\n",
       "      <th></th>\n",
       "      <th></th>\n",
       "      <th></th>\n",
       "    </tr>\n",
       "  </thead>\n",
       "  <tbody>\n",
       "    <tr>\n",
       "      <th>no</th>\n",
       "      <td>15</td>\n",
       "      <td>25</td>\n",
       "      <td>62</td>\n",
       "    </tr>\n",
       "    <tr>\n",
       "      <th>yes</th>\n",
       "      <td>98</td>\n",
       "      <td>97</td>\n",
       "      <td>166</td>\n",
       "    </tr>\n",
       "  </tbody>\n",
       "</table>\n",
       "</div>"
      ],
      "text/plain": [
       "age_group  40 years and younger  57 years and older  between 40 and 57 years\n",
       "tenure                                                                      \n",
       "no                           15                  25                       62\n",
       "yes                          98                  97                      166"
      ]
     },
     "execution_count": 21,
     "metadata": {},
     "output_type": "execute_result"
    }
   ],
   "source": [
    "## insert code here\n",
    "## state your hypothesis\n",
    "# Null Hypothesis: There is no association between age and tenure\n",
    "# Alternative Hypothesis: There is an association between age and tenure\n",
    "\n",
    "\n",
    "cont_table  = pd.crosstab(ratings_df['tenure'], ratings_df['age_group'])\n",
    "cont_table\n"
   ]
  },
  {
   "cell_type": "code",
   "execution_count": 14,
   "id": "34820d0a-e7fa-403e-8aa5-43e7ae6305b4",
   "metadata": {},
   "outputs": [
    {
     "data": {
      "text/plain": [
       "Chi2ContingencyResult(statistic=np.float64(8.749576239010711), pvalue=np.float64(0.012590809706820845), dof=2, expected_freq=array([[ 24.89416847,  26.87688985,  50.22894168],\n",
       "       [ 88.10583153,  95.12311015, 177.77105832]]))"
      ]
     },
     "execution_count": 14,
     "metadata": {},
     "output_type": "execute_result"
    }
   ],
   "source": [
    "## use the chi-square function\n",
    "scipy.stats.chi2_contingency(cont_table)\n"
   ]
  },
  {
   "cell_type": "markdown",
   "id": "5571dbc1-2bf8-4f52-a948-bc5816b2ab99",
   "metadata": {},
   "source": [
    "1. <u>At the α = 0.01, p-value is greater, we fail to reject null hypothesis as there is no evidence of an association between age and\n",
    "2. <u> At the α = 0.05, p-value is less, we reject null hypoothesis as there is evidence of an association between age and tenure"
   ]
  },
  {
   "cell_type": "markdown",
   "id": "a4237a1e-2aff-484d-965d-c6446a00bc9f",
   "metadata": {},
   "source": [
    "### Question 3: Test for equality of variance for beauty scores between tenured and non-tenured instructors\n",
    "\n",
    "*   Use α = 0.05"
   ]
  },
  {
   "cell_type": "code",
   "execution_count": 15,
   "id": "a01f42d5-b4fa-4050-97a4-ad2379c7de45",
   "metadata": {},
   "outputs": [
    {
     "data": {
      "text/plain": [
       "LeveneResult(statistic=np.float64(0.4884241652750426), pvalue=np.float64(0.4849835158609811))"
      ]
     },
     "execution_count": 15,
     "metadata": {},
     "output_type": "execute_result"
    }
   ],
   "source": [
    "## insert code here\n",
    "### use the levene function to find the p-value and conclusion\n",
    "scipy.stats.levene(ratings_df[ratings_df['tenure'] == 'yes']['beauty'],\n",
    "                   ratings_df[ratings_df['tenure'] == 'no']['beauty'], \n",
    "                   center='mean')"
   ]
  },
  {
   "cell_type": "markdown",
   "id": "e6c9eaea-5931-4ca3-a22a-cde2a22512f1",
   "metadata": {},
   "source": [
    "<u> Since the p-value is greater than 0.05, we will assume equality of variance of both groups"
   ]
  },
  {
   "cell_type": "markdown",
   "id": "90d579dc-42dc-4e47-a6c8-3a335e51f577",
   "metadata": {},
   "source": [
    "### Question 4: Using the teachers rating data set, is there an association between visible minorities and tenure?\n",
    "\n",
    "*   Use α = 0.05\n"
   ]
  },
  {
   "cell_type": "code",
   "execution_count": 17,
   "id": "2055a8a6-0644-4be0-b9dc-27ea00be6f48",
   "metadata": {},
   "outputs": [],
   "source": [
    "## insert code here\n",
    "##State you hypothesis and Create a cross-tab:\n",
    "# Null Hypothesis: There is no association between visible minorities and tenure\n",
    "# Alternative Hypothesis: There is an association between visible minorities and tenure\n",
    "\n",
    "cont_table  = pd.crosstab(ratings_df['vismin'], ratings_df['tenure'])"
   ]
  },
  {
   "cell_type": "code",
   "execution_count": 18,
   "id": "3d456c83-f98b-4e19-a684-5c4a71fbf313",
   "metadata": {},
   "outputs": [
    {
     "data": {
      "text/plain": [
       "Chi2ContingencyResult(statistic=np.float64(1.3675127484429763), pvalue=np.float64(0.24223968800237183), dof=1, expected_freq=array([[ 87.90064795, 311.09935205],\n",
       "       [ 14.09935205,  49.90064795]]))"
      ]
     },
     "execution_count": 18,
     "metadata": {},
     "output_type": "execute_result"
    }
   ],
   "source": [
    "## run the chi2_contingency() on the contigency table\n",
    "scipy.stats.chi2_contingency(cont_table, correction = True)"
   ]
  },
  {
   "cell_type": "markdown",
   "id": "022a1e32-6411-435f-aa92-8e32962cdf96",
   "metadata": {},
   "source": [
    "<u> Since the p-value is greater than 0.05, we fail to reject null hypothesis as there is no evidence of an association between visible minorities and tenure <u>"
   ]
  }
 ],
 "metadata": {
  "kernelspec": {
   "display_name": "Python 3 (ipykernel)",
   "language": "python",
   "name": "python3"
  },
  "language_info": {
   "codemirror_mode": {
    "name": "ipython",
    "version": 3
   },
   "file_extension": ".py",
   "mimetype": "text/x-python",
   "name": "python",
   "nbconvert_exporter": "python",
   "pygments_lexer": "ipython3",
   "version": "3.11.6"
  }
 },
 "nbformat": 4,
 "nbformat_minor": 5
}
